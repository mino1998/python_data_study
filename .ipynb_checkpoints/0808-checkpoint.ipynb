{
 "cells": [
  {
   "cell_type": "markdown",
   "id": "b3c58b69",
   "metadata": {},
   "source": [
    "## ndarray의 연산"
   ]
  },
  {
   "cell_type": "code",
   "execution_count": 2,
   "id": "312771f1",
   "metadata": {},
   "outputs": [],
   "source": [
    "import numpy as np"
   ]
  },
  {
   "cell_type": "code",
   "execution_count": 4,
   "id": "7e59199b",
   "metadata": {},
   "outputs": [
    {
     "name": "stdout",
     "output_type": "stream",
     "text": [
      "[ 2  4  6  8 10]\n",
      "[2 3 4 5 6]\n"
     ]
    }
   ],
   "source": [
    "ar=np.array([1,2,3,4,5])\n",
    "br=np.array([1,2,3,4,5])\n",
    "cr=np.array([1,2,3,4])\n",
    "print(ar+br)\n",
    "#print(ar+cr) # 브로드캐스트 연산을 하려하지만, 연산 질패를 합니다. 더할 수 없다.\n",
    "print(ar+1) #얘는 ar+[1,1,1,1,1]로 브로드캐스트 연산에 성공합니다.\n",
    "# 차원은 맞춰줄 수 있지만, 그 안에 있는 개수는 꼭 맞춰줘야한다."
   ]
  },
  {
   "cell_type": "code",
   "execution_count": 8,
   "id": "e1b63aa3",
   "metadata": {},
   "outputs": [
    {
     "name": "stdout",
     "output_type": "stream",
     "text": [
      "[1 2 3 4]\n"
     ]
    }
   ],
   "source": [
    "dr=np.array([1,2,3,4])\n",
    "er=np.array([1,2])\n",
    "# print(dr+er) # 이건 절대 안된다 하지만?\n",
    "dr.reshape((2,2))\n"
   ]
  },
  {
   "cell_type": "code",
   "execution_count": 12,
   "id": "ee65b76f",
   "metadata": {},
   "outputs": [
    {
     "name": "stdout",
     "output_type": "stream",
     "text": [
      "[11 22 33 44 55]\n",
      "[5 6 7 8 9]\n",
      "[ 1  2  3  4  5  6  7  8  9 10]\n",
      "[[ 1  2  3  4  5]\n",
      " [ 6  7  8  9 10]]\n",
      "[[ 2  4  6  8 10]\n",
      " [ 7  9 11 13 15]]\n"
     ]
    }
   ],
   "source": [
    "#산술연산\n",
    "ar=np.array([1,2,3,4,5])\n",
    "br=np.array([10,20,30,40,50])\n",
    "result=ar+br\n",
    "print(result)\n",
    "result=ar+4\n",
    "#이는 2개의 차원이 다른 경우이다.\n",
    "# 이 경우, 적은 차원의 데이터를 큰 차원으로 수정\n",
    "#ar+[4,4,4,4,4]\n",
    "print(result)\n",
    "kr=np.array(range(1,11)) #1부터 10까지\n",
    "print(kr)\n",
    "# print(ar+cr) # 요소 개수가 5개, 10개 차이로 오류가 남\n",
    "cr=kr.reshape((2,5)) #2행 5열로 만들기\n",
    "print(cr)\n",
    "print(ar+cr)"
   ]
  },
  {
   "cell_type": "code",
   "execution_count": 14,
   "id": "b436267f",
   "metadata": {},
   "outputs": [
    {
     "name": "stdout",
     "output_type": "stream",
     "text": [
      "[False False False False False]\n",
      "[ True  True  True  True  True]\n",
      "[False False False False False]\n"
     ]
    }
   ],
   "source": [
    "# 논리연산\n",
    "ar=np.array([1,2,3,4,5])\n",
    "br=np.array([10,20,30,40,50])\n",
    "print(ar>br)\n",
    "print(np.not_equal(ar,br))\n",
    "print(np.logical_xor(ar,br)) # 다 값이 상수로 존재(true)해서 xor는 False\n",
    "# and or xor는 bool(Ture, False)로 변경해서 판정함"
   ]
  },
  {
   "cell_type": "code",
   "execution_count": 16,
   "id": "932f03b0",
   "metadata": {},
   "outputs": [
    {
     "name": "stdout",
     "output_type": "stream",
     "text": [
      "[11 22 33 44 55]\n"
     ]
    }
   ],
   "source": [
    "ar=np.array([1,2,3,4,5])\n",
    "br=np.array([10,20,30,40,50])\n",
    "ar+=br # ar=ar+br\n",
    "print(ar)\n",
    "# 일반 list는 * 연산은 반복이다. 배열은 진짜 곱셈이다."
   ]
  },
  {
   "cell_type": "code",
   "execution_count": 18,
   "id": "cdc47c9a",
   "metadata": {},
   "outputs": [
    {
     "name": "stdout",
     "output_type": "stream",
     "text": [
      "True\n",
      "False\n",
      "False\n"
     ]
    },
    {
     "name": "stderr",
     "output_type": "stream",
     "text": [
      "C:\\Users\\USER\\AppData\\Local\\Temp\\ipykernel_20000\\1456367003.py:4: DeprecationWarning: elementwise comparison failed; this will raise an error in the future.\n",
      "  print([1,2] in ar)\n",
      "C:\\Users\\USER\\AppData\\Local\\Temp\\ipykernel_20000\\1456367003.py:5: DeprecationWarning: elementwise comparison failed; this will raise an error in the future.\n",
      "  print([1,100] in ar)\n"
     ]
    }
   ],
   "source": [
    "ar=np.array([1,2,3,4,5])\n",
    "br=np.array([10,20,30,40,50])\n",
    "print(1 in ar)\n",
    "print([1,2] in ar)\n",
    "print([1,100] in ar)"
   ]
  }
 ],
 "metadata": {
  "kernelspec": {
   "display_name": "Python 3 (ipykernel)",
   "language": "python",
   "name": "python3"
  },
  "language_info": {
   "codemirror_mode": {
    "name": "ipython",
    "version": 3
   },
   "file_extension": ".py",
   "mimetype": "text/x-python",
   "name": "python",
   "nbconvert_exporter": "python",
   "pygments_lexer": "ipython3",
   "version": "3.10.9"
  }
 },
 "nbformat": 4,
 "nbformat_minor": 5
}
