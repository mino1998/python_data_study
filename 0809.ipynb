{
 "cells": [
  {
   "cell_type": "code",
   "execution_count": 1,
   "id": "c02ae23a",
   "metadata": {},
   "outputs": [],
   "source": [
    "import numpy as np\n",
    "import pandas as pd"
   ]
  },
  {
   "cell_type": "markdown",
   "id": "82ebcd75",
   "metadata": {},
   "source": [
    "## CSV 저장"
   ]
  },
  {
   "cell_type": "code",
   "execution_count": 3,
   "id": "6987ada9",
   "metadata": {},
   "outputs": [
    {
     "name": "stdout",
     "output_type": "stream",
     "text": [
      "   code    name  price\n",
      "0     1   apple   3000\n",
      "1     2  banana   2000\n",
      "2     3    kiwi   5000\n"
     ]
    }
   ],
   "source": [
    "# 데이터프레임 생성\n",
    "items={\n",
    "    'code':[1,2,3],\n",
    "    'name':['apple','banana','kiwi'],\n",
    "    'price':[3000,2000,5000]\n",
    "}\n",
    "df=pd.DataFrame(items)\n",
    "print(df)"
   ]
  },
  {
   "cell_type": "code",
   "execution_count": 4,
   "id": "b6911647",
   "metadata": {},
   "outputs": [],
   "source": [
    "# 데이터 저장하기\n",
    "df.to_csv('./data/pdData0809.csv') "
   ]
  },
  {
   "cell_type": "code",
   "execution_count": 5,
   "id": "7b0f822b",
   "metadata": {},
   "outputs": [
    {
     "name": "stdout",
     "output_type": "stream",
     "text": [
      "C:\\Users\\USER\\Desktop\\Hello_Vision\\python_data\n"
     ]
    }
   ],
   "source": [
    "# 혹시 모르니 현재 작업 경로를 확인해보자.\n",
    "import os\n",
    "print(os.getcwd())"
   ]
  },
  {
   "cell_type": "markdown",
   "id": "8a1c7e01",
   "metadata": {},
   "source": [
    "## Excel "
   ]
  },
  {
   "cell_type": "code",
   "execution_count": 8,
   "id": "9cfe8660",
   "metadata": {},
   "outputs": [
    {
     "name": "stdout",
     "output_type": "stream",
     "text": [
      "                            이름   1과목   2과목   3과목\n",
      "번호                                              \n",
      "1                          이효준  40.0   NaN  45.0\n",
      "2                          김성희  42.0  55.0  50.0\n",
      "3                          이연숙   NaN  60.0  55.0\n",
      "4                          노화현  50.0  70.0  60.0\n",
      "5                          최희순  55.0  75.0   NaN\n",
      "6                          정원주  60.0  80.0  70.0\n"
     ]
    }
   ],
   "source": [
    "# 첫 번째 열을 인덱스로 활용해서 읽기\n",
    "df=pd.read_excel('./data/excel.xlsx',sheet_name='Sheet1', index_col=0)\n",
    "print(df)"
   ]
  },
  {
   "cell_type": "code",
   "execution_count": 9,
   "id": "77d435f5",
   "metadata": {},
   "outputs": [
    {
     "name": "stderr",
     "output_type": "stream",
     "text": [
      "C:\\Users\\USER\\AppData\\Local\\Temp\\ipykernel_16288\\2914693063.py:4: FutureWarning: save is not part of the public API, usage can give unexpected results and will be removed in a future version\n",
      "  writer.save()\n"
     ]
    }
   ],
   "source": [
    "# 저장해보기\n",
    "writer=pd.ExcelWriter('./data/excelwriter.xlsx')\n",
    "df.to_excel(writer)\n",
    "writer.save()"
   ]
  },
  {
   "cell_type": "markdown",
   "id": "32e39fa0",
   "metadata": {},
   "source": [
    "## HTML의 테이블 읽기"
   ]
  },
  {
   "cell_type": "code",
   "execution_count": 20,
   "id": "d984cd1d",
   "metadata": {},
   "outputs": [
    {
     "name": "stdout",
     "output_type": "stream",
     "text": [
      "[       0        1           2       3  \\\n",
      "0      1       인도  1428630000  2023.0   \n",
      "1      2  중화인민공화국  1411750000  2023.0   \n",
      "2      3       미국   334805268  2021.0   \n",
      "3      4    인도네시아   279134505  2021.0   \n",
      "4      5     파키스탄   229488996  2021.0   \n",
      "..   ...      ...         ...     ...   \n",
      "236  237      니우에        1520     NaN   \n",
      "237  238     토켈라우        1501  2021.0   \n",
      "238  239   바티칸 시국         825  2019.0   \n",
      "239    -   코코스 제도         573  2020.0   \n",
      "240    -   핏케언 제도          46  2021.0   \n",
      "\n",
      "                                                     4  \n",
      "0                             공식 인구시계 UN 프로젝션[1][2][3]  \n",
      "1                                              공식 인구시계  \n",
      "2                                              공식 인구시계  \n",
      "3                                              공식 인구시계  \n",
      "4                                              공식 인구시계  \n",
      "..                                                 ...  \n",
      "236                                                NaN  \n",
      "237                                              연간 예측  \n",
      "238  월간 국가통계[13] 실거주자 453명, 비거주자 372명으로 세계에서 가장 인구가...  \n",
      "239                                              공식 추산  \n",
      "240                        공식 추산[14] 세계에서 가장 인구가 적은 속령  \n",
      "\n",
      "[241 rows x 5 columns],   vte나라 목록                                         vte나라 목록.1\n",
      "0       지리  면적 해안선 최고 고도 밀집도 해안 면적 비율 위도 최북단 최남단 경도 최동단 최서...\n",
      "1    인구 통계  인구 (그래프 인구 밀도) 평균 수명 영아 사망률 출생률 출산율 과거 출산율 사망률...\n",
      "2       경제  국내 총생산: 명목 GDP (일인당) PPP (일인당) (노동 시간 일인당) 과거 ...\n",
      "3   정치와 사회  정치자유 언론 자유 교육제도 대통령제/의원내각제 선거제도 사형제 동성결혼 낙태 국가...\n",
      "4       군사        군비지출 병력 모병제/징병제 전시 작전통제권 핵무기 보유 UN 평화유지군 파병\n",
      "5       환경  석유 생산 가채 석유 매장량 생산량 소비량 수출 수입 이산화탄소 배출량 (일인당) ...]\n"
     ]
    }
   ],
   "source": [
    "li=pd.read_html(\"https://ko.wikipedia.org/wiki/%EC%9D%B8%EA%B5%AC%EC%88%9C_%EB%82%98%EB%9D%BC_%EB%AA%A9%EB%A1%9D\")\n",
    "print(li)"
   ]
  },
  {
   "cell_type": "markdown",
   "id": "24f31732",
   "metadata": {},
   "source": [
    "## Python 기본 라이브러리 이용"
   ]
  },
  {
   "cell_type": "code",
   "execution_count": 21,
   "id": "b7879a55",
   "metadata": {},
   "outputs": [
    {
     "name": "stdout",
     "output_type": "stream",
     "text": [
      "<!doctype html><html data-n-head-ssr lang=\"ko\" data-n-head=\"%7B%22lang%22:%7B%22ssr%22:%22ko%22%7D%7D\"><head ><title>카카오</title><meta data-n-head=\"ssr\" charset=\"utf-8\"><meta data-n-head=\"ssr\" name=\"viewport\" content=\"user-scalable=no, width=device-width, height=device-height, initial-scale=1, maximum-scale=1, minimum-scale=1.0, viewport-fit=cover\"><meta data-n-head=\"ssr\" property=\"og:type\" content=\"website\"><meta data-n-head=\"ssr\" property=\"og:site_name\" content=\"kakaocorp.com\"><meta data-n-head=\"ssr\" data-hid=\"url\" property=\"og:url\" content=\"//www.kakaocorp.com/page\"><meta data-n-head=\"ssr\" data-hid=\"title\" property=\"og:title\" content=\"Kakao\"><meta data-n-head=\"ssr\" data-hid=\"image\" property=\"og:image\" content=\"//t1.kakaocdn.net/kakaocorp/corp_thumbnail/Kakao.png\"><meta data-n-head=\"ssr\" data-hid=\"twitter\" name=\"twitter:image\" content=\"//t1.kakaocdn.net/kakaocorp/corp_thumbnail/Kakao.png\"><meta data-n-head=\"ssr\" name=\"naver-site-verification\" content=\"978574773c25b7ebacf3d4fb8308cba807def903\"><meta data-n-head=\"ssr\" name=\"google-site-verification\" content=\"1Xzj4wSdrqlorYybls1auuS_QH004opxKRrxvF7vAho\"><meta data-n-head=\"ssr\" data-hid=\"og:description\" property=\"og:description\" content=\"기술과 사람으로 더 나은 세상을 만듭니다\"><meta data-n-head=\"ssr\" data-hid=\"description\" name=\"description\" content=\"기술과 사람으로 더 나은 세상을 만듭니다\"><base href=\"/page/\"><link data-n-head=\"ssr\" rel=\"icon\" type=\"image/x-icon\" href=\"/page/favicon.ico\"><script data-n-head=\"ssr\" type=\"text/javascript\" src=\"//developers.kakao.com/sdk/js/kakao.min.js\"></script><script data-n-head=\"ssr\" type=\"text/javascript\" src=\"//t1.daumcdn.net/tiara/js/v1/tiara.min.js\"></script><link rel=\"preload\" href=\"/page/_nuxt/0ea2753.js\" as=\"script\"><link rel=\"preload\" href=\"/page/_nuxt/ba90d9e.js\" as=\"script\"><link rel=\"preload\" href=\"/page/_nuxt/css/7f2d63c.css\" as=\"style\"><link rel=\"preload\" href=\"/page/_nuxt/107d4d9.js\" as=\"script\"><link rel=\"preload\" href=\"/page/_nuxt/3b15d7c.js\" as=\"script\"><link rel=\"stylesheet\" href=\"/page/_nuxt/css/7f2d63c.css\"></head><body class=\"light mo  \" data-n-head=\"%7B%22class%22:%7B%22ssr%22:%5B%22light%22,%22mo%22,%22%22,%22%22%5D%7D%7D\"><noscript data-n-head=\"ssr\" data-pbody=\"true\">이 페이지를 실행하려면 자바스크립트를 사용해야 합니다.</noscript><div data-server-rendered=\"true\" id=\"__nuxt\"><div id=\"__layout\"><div data-v-681c0c75><div aria-hidden=\"true\" class=\"direct-link\" data-v-681c0c75><a href=\"#mainContent\" data-v-681c0c75>본문 바로가기</a> <a href=\"#gnbContent\" data-v-681c0c75>메뉴 바로가기</a></div> <div class=\"container-doc\" style=\"visibility:hidden;\" data-v-681c0c75><header class=\"doc-header head_type2\" data-v-242c9ccb data-v-681c0c75><div class=\"wrap_header\" data-v-242c9ccb><h1 class=\"doc-title\" data-v-242c9ccb><a href=\"/page\" data-v-242c9ccb><span class=\"screen_out\" data-v-242c9ccb>KaKao</span><!----></a></h1> <button type=\"button\" class=\"btn_hamburger\" data-v-242c9ccb><span class=\"screen_out\" data-v-242c9ccb>메인 메뉴 열기</span> <!----></button> <button type=\"button\" data-tiara-action-name=\"click_search_open\" class=\"btn_search\" data-v-242c9ccb><span class=\"screen_out\" data-v-242c9ccb>검색창 열기</span> <!----></button></div> <div aria-hidden=\"true\" class=\"area_gnb\" data-v-242c9ccb><div class=\"inner_gnb\" data-v-242c9ccb><strong class=\"gnb_logo\" data-v-242c9ccb><a href=\"/page\" data-v-242c9ccb><span class=\"screen_out\" data-v-242c9ccb>KaKao</span><!----></a></strong> <nav id=\"gnbContent\" class=\"doc-gnb\" data-v-242c9ccb><h2 class=\"screen_out\" data-v-242c9ccb>메인메뉴</h2> <ul class=\"list_gnb\" data-v-242c9ccb><li data-v-242c9ccb><a href=\"javascript;\" role=\"button\" aria-expanded=\"false\" data-v-242c9ccb><img src=\"data:image/gif;base64,R0lGODlhAQABAIAAAAAAAP///yH5BAEAAAAALAAAAAABAAEAAAIBRAA7\" alt=\"\" class=\"ico_menu\" data-v-a968263a data-v-242c9ccb> <span data-v-242c9ccb>소개</span></a> <ul role=\"list\" class=\"list_sub\" style=\"display:none;\" data-v-242c9ccb><li role=\"listitem\" data-v-242c9ccb><a href=\"/page/about/kakaoCulture\" data-v-242c9ccb>\n",
      "                      카카오 문화\n",
      "                    </a></li><li role=\"listitem\" data-v-242c9ccb><a href=\"/page/about/subsidiaryCompany\" data-v-242c9ccb>\n",
      "                      공동체\n",
      "                    </a></li><li role=\"listitem\" data-v-242c9ccb><a href=\"/page/about/milestones\" data-v-242c9ccb>\n",
      "                      연혁\n",
      "                    </a></li></ul></li><li data-v-242c9ccb><a href=\"javascript;\" role=\"button\" aria-expanded=\"false\" data-v-242c9ccb><img src=\"data:image/gif;base64,R0lGODlhAQABAIAAAAAAAP///yH5BAEAAAAALAAAAAABAAEAAAIBRAA7\" alt=\"\" class=\"ico_menu\" data-v-a968263a data-v-242c9ccb> <span data-v-242c9ccb>이야기</span></a> <ul role=\"list\" class=\"list_sub\" style=\"display:none;\" data-v-242c9ccb><li role=\"listitem\" data-v-242c9ccb><a href=\"/page/story/archives\" data-v-242c9ccb>\n",
      "                      콘텐츠 저장소\n",
      "                    </a></li><li role=\"listitem\" data-v-242c9ccb><a href=\"/page/story/history\" data-v-242c9ccb>\n",
      "                      뚝딱뚝딱 성장기\n",
      "                    </a></li><li role=\"listitem\" data-v-242c9ccb><a href=\"/page/story/bynumbers\" data-v-242c9ccb>\n",
      "                      숫자로 보는 카카오\n",
      "                    </a></li></ul></li><li data-v-242c9ccb><a href=\"/page/news\" class=\"link_direct\" data-v-242c9ccb><img src=\"data:image/gif;base64,R0lGODlhAQABAIAAAAAAAP///yH5BAEAAAAALAAAAAABAAEAAAIBRAA7\" alt=\"\" class=\"ico_menu\" data-v-a968263a data-v-242c9ccb> <span data-v-242c9ccb>뉴스</span></a> <!----></li><li data-v-242c9ccb><a href=\"javascript;\" role=\"button\" aria-expanded=\"false\" data-v-242c9ccb><img src=\"data:image/gif;base64,R0lGODlhAQABAIAAAAAAAP///yH5BAEAAAAALAAAAAABAAEAAAIBRAA7\" alt=\"\" class=\"ico_menu\" data-v-a968263a data-v-242c9ccb> <span data-v-242c9ccb>기술과 서비스</span></a> <ul role=\"list\" class=\"list_sub\" style=\"display:none;\" data-v-242c9ccb><li role=\"listitem\" data-v-242c9ccb><a href=\"/page/service/tech\" data-v-242c9ccb>\n",
      "                      기술\n",
      "                    </a></li><li role=\"listitem\" data-v-242c9ccb><a href=\"/page/service/service\" data-v-242c9ccb>\n",
      "                      서비스\n",
      "                    </a></li></ul></li><li data-v-242c9ccb><a href=\"javascript;\" role=\"button\" aria-expanded=\"false\" data-v-242c9ccb><img src=\"data:image/gif;base64,R0lGODlhAQABAIAAAAAAAP///yH5BAEAAAAALAAAAAABAAEAAAIBRAA7\" alt=\"\" class=\"ico_menu\" data-v-a968263a data-v-242c9ccb> <span data-v-242c9ccb>약속과 책임</span></a> <ul role=\"list\" class=\"list_sub\" style=\"display:none;\" data-v-242c9ccb><li role=\"listitem\" data-v-242c9ccb><a href=\"/page/responsible/promise\" data-v-242c9ccb>\n",
      "                      카카오의 다짐\n",
      "                    </a></li><li role=\"listitem\" data-v-242c9ccb><a href=\"/page/responsible/esg\" data-v-242c9ccb>\n",
      "                      ESG\n",
      "                    </a></li><li role=\"listitem\" data-v-242c9ccb><a href=\"/page/responsible/activegreen\" data-v-242c9ccb>\n",
      "                      액티브그린\n",
      "                    </a></li><li role=\"listitem\" data-v-242c9ccb><a href=\"/page/responsible/digital\" data-v-242c9ccb>\n",
      "                      디지털 권리\n",
      "                    </a></li><li role=\"listitem\" data-v-242c9ccb><a href=\"/page/responsible/aiEthics\" data-v-242c9ccb>\n",
      "                      AI 윤리\n",
      "                    </a></li></ul></li></ul></nav> <div class=\"group_relation\" data-v-242c9ccb><ul class=\"list_relation\" data-v-242c9ccb><li data-v-242c9ccb><a href=\"/ir/main\" target=\"_blank\" data-v-242c9ccb>투자정보</a></li><li data-v-242c9ccb><a href=\"https://careers.kakao.com/index\" target=\"_blank\" data-v-242c9ccb>인재영입</a></li><li data-v-242c9ccb><a href=\"javascript;\" role=\"button\" aria-expanded=\"false\" data-v-242c9ccb>\n",
      "                고객센터<!----></a> <ul class=\"list_subinfo\" data-v-242c9ccb><li data-v-242c9ccb><a href=\"https://cs.kakao.com/\" target=\"_blank\" data-v-242c9ccb><div role=\"text\" class=\"wrap_info\" data-v-242c9ccb><span data-v-242c9ccb>카카오 고객센터</span><!----></div></a></li><li data-v-242c9ccb><a href=\"https://cs.daum.net/\" target=\"_blank\" data-v-242c9ccb><div role=\"text\" class=\"wrap_info\" data-v-242c9ccb><span data-v-242c9ccb>Daum 고객센터</span><!----></div></a></li><li data-v-242c9ccb><a href=\"https://faqs2.melon.com/customer/index.htm\" target=\"_blank\" data-v-242c9ccb><div role=\"text\" class=\"wrap_info\" data-v-242c9ccb><span data-v-242c9ccb>멜론 고객센터</span><!----></div></a></li></ul></li></ul> <div class=\"wrap_util\" data-v-242c9ccb><button type=\"button\" data-tiara-action-name=\"click_darkmode\" class=\"btn_mode\" data-v-242c9ccb><span data-v-242c9ccb><span class=\"screen_out\" data-v-242c9ccb>다크모드로 변경하기</span> <!----></span></button> <button type=\"button\" data-tiara-action-name=\"click_language_en\" class=\"btn_language\" data-v-242c9ccb><span data-v-242c9ccb><span class=\"screen_out\" data-v-242c9ccb>영어로 보기</span> <!----></span></button></div></div> <button type=\"button\" class=\"btn_close\" style=\"display:none;\" data-v-242c9ccb><span class=\"screen_out\" data-v-242c9ccb>메인 메뉴 닫기</span> <!----></button></div></div></header> <main class=\"doc-main\" data-v-681c0c75><section id=\"mainContent\" class=\"inner-main\" data-v-681c0c75><h2 class=\"screen_out\">홈 본문</h2> <section class=\"content-feature\" style=\"display:none;\" data-v-9f06dbe6><div class=\"inner_path\" data-v-9f06dbe6><h3 class=\"screen_out\" data-v-9f06dbe6>현재 페이지 위치</h3> <div class=\"wrap_tit\" data-v-9f06dbe6><img src=\"data:image/gif;base64,R0lGODlhAQABAIAAAAAAAP///yH5BAEAAAAALAAAAAABAAEAAAIBRAA7\" alt=\"1일\" data-v-a968263a data-v-9f06dbe6> <strong class=\"tit_path\" data-v-9f06dbe6>카카오 소식</strong></div> <!----></div></section> <div class=\"main-content\"><article class=\"content-article\"><h3 role=\"text\" class=\"tit_main tit_home tit_date1\"><em class=\"emph_tit\">\n",
      "          8월 9일에 전하는\n",
      "        </em> <span class=\"txt_tit\">\n",
      "          카카오 소식입니다\n",
      "          <!----><span class=\"screen_out\">개의 업데이트된 소식</span></span></h3> <!----></article></div> <span class=\"dimmed_block\" data-v-448164c2></span></section></main> <footer class=\"doc-footer\" data-v-49e70738 data-v-681c0c75><div class=\"inner_footer\" data-v-49e70738><section class=\"section_service\" data-v-49e70738><h2 class=\"screen_out\" data-v-49e70738>하단 메뉴</h2> <div class=\"wrap_service\" data-v-49e70738><strong class=\"tit_service\" data-v-49e70738><a href=\"javascript;\" role=\"button\" aria-expanded=\"false\" data-v-49e70738>\n",
      "            소개<!----></a></strong> <ul role=\"list\" class=\"list_service\" data-v-49e70738><li role=\"listitem\" data-v-49e70738><a href=\"/page/about/kakaoCulture\" data-v-49e70738><span role=\"text\" data-v-49e70738>카카오 문화</span></a></li><li role=\"listitem\" data-v-49e70738><a href=\"/page/about/subsidiaryCompany\" data-v-49e70738><span role=\"text\" data-v-49e70738>공동체</span></a></li><li role=\"listitem\" data-v-49e70738><a href=\"/page/about/milestones\" data-v-49e70738><span role=\"text\" data-v-49e70738>연혁</span></a></li></ul></div><div class=\"wrap_service\" data-v-49e70738><strong class=\"tit_service\" data-v-49e70738><a href=\"javascript;\" role=\"button\" aria-expanded=\"false\" data-v-49e70738>\n",
      "            이야기<!----></a></strong> <ul role=\"list\" class=\"list_service\" data-v-49e70738><li role=\"listitem\" data-v-49e70738><a href=\"/page/story/archives\" data-v-49e70738><span role=\"text\" data-v-49e70738>콘텐츠 저장소</span></a></li><li role=\"listitem\" data-v-49e70738><a href=\"/page/story/history\" data-v-49e70738><span role=\"text\" data-v-49e70738>뚝딱뚝딱 성장기</span></a></li><li role=\"listitem\" data-v-49e70738><a href=\"/page/story/bynumbers\" data-v-49e70738><span role=\"text\" data-v-49e70738>숫자로 보는 카카오</span></a></li></ul></div><div class=\"wrap_service wrap_news\" data-v-49e70738><strong class=\"tit_service\" data-v-49e70738><a href=\"/page/news\" data-v-49e70738><span role=\"text\" data-v-49e70738>\n",
      "              뉴스<!----></span></a></strong> <!----></div><div class=\"wrap_service\" data-v-49e70738><strong class=\"tit_service\" data-v-49e70738><a href=\"javascript;\" role=\"button\" aria-expanded=\"false\" data-v-49e70738>\n",
      "            기술과 서비스<!----></a></strong> <ul role=\"list\" class=\"list_service\" data-v-49e70738><li role=\"listitem\" data-v-49e70738><a href=\"/page/service/tech\" data-v-49e70738><span role=\"text\" data-v-49e70738>기술</span></a></li><li role=\"listitem\" data-v-49e70738><a href=\"/page/service/service\" data-v-49e70738><span role=\"text\" data-v-49e70738>서비스</span></a></li></ul></div><div class=\"wrap_service\" data-v-49e70738><strong class=\"tit_service\" data-v-49e70738><a href=\"javascript;\" role=\"button\" aria-expanded=\"false\" data-v-49e70738>\n",
      "            약속과 책임<!----></a></strong> <ul role=\"list\" class=\"list_service\" data-v-49e70738><li role=\"listitem\" data-v-49e70738><a href=\"/page/responsible/promise\" data-v-49e70738><span role=\"text\" data-v-49e70738>카카오의 다짐</span></a></li><li role=\"listitem\" data-v-49e70738><a href=\"/page/responsible/esg\" data-v-49e70738><span role=\"text\" data-v-49e70738>ESG</span></a></li><li role=\"listitem\" data-v-49e70738><a href=\"/page/responsible/activegreen\" data-v-49e70738><span role=\"text\" data-v-49e70738>액티브그린</span></a></li><li role=\"listitem\" data-v-49e70738><a href=\"/page/responsible/digital\" data-v-49e70738><span role=\"text\" data-v-49e70738>디지털 권리</span></a></li><li role=\"listitem\" data-v-49e70738><a href=\"/page/responsible/aiEthics\" data-v-49e70738><span role=\"text\" data-v-49e70738>AI 윤리</span></a></li></ul></div> <div class=\"wrap_service\" data-v-49e70738><strong class=\"tit_service\" data-v-49e70738><a href=\"javascript;\" role=\"button\" aria-expanded=\"false\" data-v-49e70738>\n",
      "            투자정보<!----></a></strong> <ul role=\"list\" class=\"list_service\" data-v-49e70738><li role=\"listitem\" data-v-49e70738><a href=\"/ir/managementInformation/shareholderComposition\" target=\"_blank\" data-tiara-layer=\"M_IR01\" data-tiara-action-name=\"M_IR01\" data-v-49e70738><span role=\"text\" data-v-49e70738>기업지배구조</span></a></li><li role=\"listitem\" data-v-49e70738><a href=\"/ir/stockInformation\" target=\"_blank\" data-tiara-layer=\"M_IR02\" data-tiara-action-name=\"M_IR02\" data-v-49e70738><span role=\"text\" data-v-49e70738>주가정보</span></a></li><li role=\"listitem\" data-v-49e70738><a href=\"/ir/financialInformation/consolidatedFinancialStatements\" target=\"_blank\" data-tiara-layer=\"M_IR03\" data-tiara-action-name=\"M_IR03\" data-v-49e70738><span role=\"text\" data-v-49e70738>재무정보</span></a></li><li role=\"listitem\" data-v-49e70738><a href=\"/ir/referenceRoom/earningsAnnouncement\" target=\"_blank\" data-tiara-layer=\"M_IR04\" data-tiara-action-name=\"M_IR04\" data-v-49e70738><span role=\"text\" data-v-49e70738>IR행사</span></a></li><li role=\"listitem\" data-v-49e70738><a href=\"/ir/disclosureInformation\" target=\"_blank\" data-tiara-layer=\"M_IR05\" data-tiara-action-name=\"M_IR05\" data-v-49e70738><span role=\"text\" data-v-49e70738>공시정보</span></a></li><li role=\"listitem\" data-v-49e70738><a href=\"/ir/noticeList\" target=\"_blank\" data-tiara-layer=\"M_IR06\" data-tiara-action-name=\"M_IR06\" data-v-49e70738><span role=\"text\" data-v-49e70738>공고</span></a></li></ul></div> <div class=\"group_service\" data-v-49e70738><div class=\"wrap_service\" data-v-49e70738><strong class=\"tit_service\" data-v-49e70738><a href=\"javascript;\" role=\"button\" aria-expanded=\"false\" data-tiara-layer=\"M_Daum_Customer\" data-tiara-action-name=\"M_Daum_Customer\" data-v-49e70738>\n",
      "              고객센터<!----></a></strong> <ul role=\"list\" class=\"list_service\" data-v-49e70738><li role=\"listitem\" data-v-49e70738><a href=\"https://cs.kakao.com/\" target=\"_blank\" data-tiara-layer=\"M_Customer\" data-tiara-action-name=\"M_Customer\" data-v-49e70738><span role=\"text\" data-v-49e70738><!---->\n",
      "                  카카오 고객센터<span class=\"screen_out\" data-v-49e70738>사이트 바로가기</span><!----></span></a></li><li role=\"listitem\" data-v-49e70738><a href=\"https://cs.daum.net/\" target=\"_blank\" data-tiara-layer=\"M_Daum_Customer\" data-tiara-action-name=\"M_Daum_Customer\" data-v-49e70738><span role=\"text\" data-v-49e70738><!---->\n",
      "                  Daum 고객센터<span class=\"screen_out\" data-v-49e70738>사이트 바로가기</span><!----></span></a></li></ul></div> <strong class=\"tit_service\" data-v-49e70738><a href=\"https://careers.kakao.com/index\" target=\"_blank\" data-tiara-layer=\"M_Career\" data-tiara-action-name=\"M_Career\" data-v-49e70738><span role=\"text\" data-v-49e70738><!---->\n",
      "              인재영입<span class=\"screen_out\" data-v-49e70738>사이트 바로가기</span><!----></span></a></strong> <strong class=\"tit_service\" data-v-49e70738><a href=\"https://accounts.kakao.com\" target=\"_blank\" data-v-49e70738><span role=\"text\" data-v-49e70738><!---->\n",
      "              카카오계정<span class=\"screen_out\" data-v-49e70738>사이트 바로가기</span><!----></span></a></strong></div></section> <section class=\"section_relation\" data-v-49e70738><h2 class=\"screen_out\" data-v-49e70738>서비스 이용정보</h2> <div class=\"group_info\" data-v-49e70738><div class=\"wrap_info\" data-v-49e70738><a href=\"javascript;\" role=\"button\" aria-expanded=\"false\" class=\"link_info\" data-v-49e70738>\n",
      "              이용약관<!----></a> <ul class=\"list_subinfo\" data-v-49e70738><li data-v-49e70738><a href=\"https://www.kakao.com/policy/terms?type=a&amp;amp;lang=ko\" target=\"_blank\" data-tiara-action-name=\"click_footer_01_1\" data-v-49e70738><span role=\"text\" data-v-49e70738>\n",
      "                    카카오계정 서비스<span class=\"screen_out\" data-v-49e70738>사이트 바로가기</span><!----></span></a></li><li data-v-49e70738><a href=\"https://www.kakao.com/policy/terms?type=ts&amp;amp;lang=ko\" target=\"_blank\" data-tiara-action-name=\"click_footer_01_2\" data-v-49e70738><span role=\"text\" data-v-49e70738>\n",
      "                    카카오 서비스<span class=\"screen_out\" data-v-49e70738>사이트 바로가기</span><!----></span></a></li><li data-v-49e70738><a href=\"http://policy.daum.net/info/info\" target=\"_blank\" data-tiara-action-name=\"click_footer_01_3\" data-v-49e70738><span role=\"text\" data-v-49e70738>\n",
      "                    Daum 서비스<span class=\"screen_out\" data-v-49e70738>사이트 바로가기</span><!----></span></a></li></ul></div><div class=\"wrap_info\" data-v-49e70738><a href=\"javascript;\" role=\"button\" aria-expanded=\"false\" class=\"link_info link_emph\" data-v-49e70738>\n",
      "              위치정보 이용약관<!----></a> <ul class=\"list_subinfo\" data-v-49e70738><li data-v-49e70738><a href=\"https://www.kakao.com/policy/location?lang=ko\" target=\"_blank\" data-tiara-action-name=\"click_footer_02_1\" data-v-49e70738><span role=\"text\" data-v-49e70738>\n",
      "                    카카오 서비스<span class=\"screen_out\" data-v-49e70738>사이트 바로가기</span><!----></span></a></li><li data-v-49e70738><a href=\"http://policy.daum.net/mobile_info/mobile_info\" target=\"_blank\" data-tiara-action-name=\"click_footer_02_2\" data-v-49e70738><span role=\"text\" data-v-49e70738>\n",
      "                    Daum 서비스<span class=\"screen_out\" data-v-49e70738>사이트 바로가기</span><!----></span></a></li></ul></div><div class=\"wrap_info\" data-v-49e70738><a href=\"javascript;\" role=\"button\" aria-expanded=\"false\" class=\"link_info link_emph\" data-v-49e70738>\n",
      "              개인정보처리방침<!----></a> <ul class=\"list_subinfo\" data-v-49e70738><li data-v-49e70738><a href=\"https://www.kakaocorp.com/policy/privacyPolicy/corporateSitePrivacyPolicy\" target=\"_blank\" data-tiara-action-name=\"click_footer_03_1\" data-v-49e70738><span role=\"text\" data-v-49e70738>\n",
      "                    기업사이트<span class=\"screen_out\" data-v-49e70738>사이트 바로가기</span><!----></span></a></li><li data-v-49e70738><a href=\"https://www.kakao.com/policy/privacy?lang=ko\" target=\"_blank\" data-tiara-action-name=\"click_footer_03_2\" data-v-49e70738><span role=\"text\" data-v-49e70738>\n",
      "                    카카오 서비스<span class=\"screen_out\" data-v-49e70738>사이트 바로가기</span><!----></span></a></li></ul></div><div class=\"wrap_info\" data-v-49e70738><a href=\"https://www.kakao.com/policy/oppolicy?lang=ko\" target=\"_blank\" data-tiara-action-name=\"click_footer_04\" class=\"link_info\" data-v-49e70738><span role=\"text\" data-v-49e70738>운영정책</span></a> <!----></div><div class=\"wrap_info\" data-v-49e70738><a href=\"javascript;\" role=\"button\" aria-expanded=\"false\" class=\"link_info\" data-v-49e70738>\n",
      "              청소년보호정책<!----></a> <ul class=\"list_subinfo\" data-v-49e70738><li data-v-49e70738><a href=\"https://www.kakao.com/policy/safeguard?lang=ko\" target=\"_blank\" data-tiara-action-name=\"click_footer_05_1\" data-v-49e70738><span role=\"text\" data-v-49e70738>\n",
      "                    카카오 서비스<span class=\"screen_out\" data-v-49e70738>사이트 바로가기</span><!----></span></a></li><li data-v-49e70738><a href=\"http://policy.daum.net/youthpolicy/youthpolicy\" target=\"_blank\" data-tiara-action-name=\"click_footer_05_2\" data-v-49e70738><span role=\"text\" data-v-49e70738>\n",
      "                    Daum 서비스<span class=\"screen_out\" data-v-49e70738>사이트 바로가기</span><!----></span></a></li></ul></div><div class=\"wrap_info\" data-v-49e70738><a href=\"https://kakao.com/policy/brand/trademark?lang=ko\" target=\"_blank\" data-tiara-action-name=\"click_footer_06\" class=\"link_info\" data-v-49e70738><span role=\"text\" data-v-49e70738>브랜드보호정책</span></a> <!----></div><div class=\"wrap_info\" data-v-49e70738><a href=\"https://www.kakao.com/policy/right?lang=ko\" target=\"_blank\" data-tiara-action-name=\"click_footer_07\" class=\"link_info\" data-v-49e70738><span role=\"text\" data-v-49e70738>권리침해신고안내</span></a> <!----></div><div class=\"wrap_info\" data-v-49e70738><a href=\"javascript;\" role=\"button\" aria-expanded=\"false\" class=\"link_info\" data-v-49e70738>\n",
      "              공지사항<!----></a> <ul class=\"list_subinfo\" data-v-49e70738><li data-v-49e70738><a href=\"https://www.kakaocorp.com/policy/notice/kakaocorp/list\" target=\"_blank\" data-tiara-action-name=\"click_footer_08_1\" data-v-49e70738><span role=\"text\" data-v-49e70738>\n",
      "                    투자정보 공지<span class=\"screen_out\" data-v-49e70738>사이트 바로가기</span><!----></span></a></li><li data-v-49e70738><a href=\"https://www.kakao.com/notices?lang=ko\" target=\"_blank\" data-tiara-action-name=\"click_footer_08_2\" data-v-49e70738><span role=\"text\" data-v-49e70738>\n",
      "                    카카오 서비스<span class=\"screen_out\" data-v-49e70738>사이트 바로가기</span><!----></span></a></li><li data-v-49e70738><a href=\"https://m.daum.net/channel/new/notice\" target=\"_blank\" data-tiara-action-name=\"click_footer_08_3\" data-v-49e70738><span role=\"text\" data-v-49e70738>\n",
      "                    Daum 서비스<span class=\"screen_out\" data-v-49e70738>사이트 바로가기</span><!----></span></a></li></ul></div><div class=\"wrap_info\" data-v-49e70738><a href=\"https://www.kakaocorp.com/policy/cyberEthics/info\" target=\"_blank\" data-tiara-action-name=\"click_footer_09\" class=\"link_info\" data-v-49e70738><span role=\"text\" data-v-49e70738>사이버윤리실</span></a> <!----></div><div class=\"wrap_info\" data-v-49e70738><a href=\"https://www.kakaocorp.com/ir/wayToCome\" target=\"_blank\" data-tiara-action-name=\"click_footer_010\" class=\"link_info\" data-v-49e70738><span role=\"text\" data-v-49e70738>Contact Us</span></a> <!----></div></div> <div class=\"wrap_relation\" data-v-49e70738><strong class=\"tit_relation\" data-v-49e70738><a href=\"javascript;\" role=\"button\" aria-expanded=\"false\" data-v-49e70738>\n",
      "            관련사이트<!----></a></strong> <ul class=\"list_subinfo\" data-v-49e70738><li data-v-49e70738><a href=\"https://kakao.ai/\" target=\"_blank\" data-v-49e70738><span role=\"text\" data-v-49e70738><!---->\n",
      "                  카카오 AI<span class=\"screen_out\" data-v-49e70738>사이트 바로가기</span><!----></span></a></li><li data-v-49e70738><a href=\"https://privacy.kakao.com/main?lang=ko\" target=\"_blank\" data-v-49e70738><span role=\"text\" data-v-49e70738><!---->\n",
      "                  카카오 프라이버시<span class=\"screen_out\" data-v-49e70738>사이트 바로가기</span><!----></span></a></li><li data-v-49e70738><a href=\"https://developers.kakao.com/\" target=\"_blank\" data-v-49e70738><span role=\"text\" data-v-49e70738><!---->\n",
      "                  카카오 디벨로퍼스<span class=\"screen_out\" data-v-49e70738>사이트 바로가기</span><!----></span></a></li><li data-v-49e70738><a href=\"https://www.daum.net/\" target=\"_blank\" data-v-49e70738><span role=\"text\" data-v-49e70738><!---->\n",
      "                  다음 포털 사이트<span class=\"screen_out\" data-v-49e70738>사이트 바로가기</span><!----></span></a></li><li data-v-49e70738><a href=\"https://winwin.kakao.com/index\" target=\"_blank\" data-v-49e70738><span role=\"text\" data-v-49e70738><!---->\n",
      "                  동반 성장 사이트<span class=\"screen_out\" data-v-49e70738>사이트 바로가기</span><!----></span></a></li><li data-v-49e70738><a href=\"https://jeju.kakao.com/\" target=\"_blank\" data-v-49e70738><span role=\"text\" data-v-49e70738><!---->\n",
      "                  제주 with kakao<span class=\"screen_out\" data-v-49e70738>사이트 바로가기</span><!----></span></a></li></ul></div> <small class=\"txt_copyright\" data-v-49e70738>\n",
      "        © <a href=\"https://www.kakaocorp.com/page\" data-v-49e70738>Kakao Corp.</a> All\n",
      "        rights reserved.\n",
      "      </small></section></div></footer> <!----> <!----></div></div></div></div><script>window.__NUXT__=(function(a,b,c,d){return {layout:\"default\",data:[{}],fetch:{},error:b,state:{isDesktop:a,windowWidth:c,isDarkMode:a,isEnglish:a,isSearchLayerShow:a,isSearchLoading:a,searchKeyword:d,searchData:{},isDetailLayerShow:a,layerData:{},recommendKeywordList:[],categoryData:{},isNavigationShow:a,serviceDetailPcActiveIdx:c,newsCurrentNum:b,newsCurrentTab:d,fromNewsDetail:a},serverRendered:true,routePath:\"\\u002F\",config:{_app:{basePath:\"\\u002Fpage\\u002F\",assetsPath:\"\\u002Fpage\\u002F_nuxt\\u002F\",cdnURL:b}}}}(false,null,0,\"\"));</script><script src=\"/page/_nuxt/0ea2753.js\" defer></script><script src=\"/page/_nuxt/ba90d9e.js\" defer></script><script src=\"/page/_nuxt/107d4d9.js\" defer></script><script src=\"/page/_nuxt/3b15d7c.js\" defer></script><script data-n-head=\"ssr\" type=\"application/ld+json\" data-body=\"true\">\n",
      "        {\n",
      "          \"@context\": \"http://schema.org\",\n",
      "          \"@type\": \"Organization\",\n",
      "          \"name\": \"Kakao Corp\",\n",
      "          \"url\": \"https://www.kakaocorp.com\",\n",
      "          \"sameAs\": [\n",
      "            \"https://www.facebook.com/kakao.brandmedia\",\n",
      "            \"https://www.instagram.com/kakao.today\",\n",
      "            \"https://www.youtube.com/c/Kakaobrandmedia\"\n",
      "          ]\n",
      "        }\n",
      "      </script></body></html>\n"
     ]
    }
   ],
   "source": [
    "import urllib.request\n",
    "# 데이터 읽어오기\n",
    "response=urllib.request.urlopen(\"https://www.kakao.com\")\n",
    "# 읽은 정보 저장\n",
    "data=response.read()\n",
    "#print(data) 하니 데이터가 깨져있다. 인코딩 문제 발생\n",
    "encoding=response.info().get_content_charset()\n",
    "html=data.decode(encoding)\n",
    "print(html)"
   ]
  },
  {
   "cell_type": "code",
   "execution_count": null,
   "id": "9ca26a41",
   "metadata": {},
   "outputs": [],
   "source": [
    "from urllib.parse import quote\n",
    "keyword=quote(\"바밤바아이스크림\")\n",
    "# 데이터 읽어오기\n",
    "response=urllib.request.urlopen(\"https://www.coupang.com/np/search?q=\"+keyword+\"&channel=relate\")\n",
    "# 읽은 정보 저장\n",
    "data=response.read()\n",
    "#print(data) 하니 데이터가 깨져있다. 인코딩 문제 발생\n",
    "encoding=response.info().get_content_charset()\n",
    "html=data.decode(encoding)\n",
    "print(html)\n",
    "#이거 실행 x 쿠팡은 안되겠다."
   ]
  },
  {
   "cell_type": "markdown",
   "id": "ab8f3506",
   "metadata": {},
   "source": [
    "## Request 모듈 - 파이썬의 기본 모듈 아닙니다."
   ]
  },
  {
   "cell_type": "code",
   "execution_count": 3,
   "id": "0e2e6e60",
   "metadata": {},
   "outputs": [
    {
     "name": "stdout",
     "output_type": "stream",
     "text": [
      "{\n",
      "  \"args\": {}, \n",
      "  \"headers\": {\n",
      "    \"Accept\": \"*/*\", \n",
      "    \"Accept-Encoding\": \"gzip, deflate, br\", \n",
      "    \"Host\": \"httpbin.org\", \n",
      "    \"User-Agent\": \"python-requests/2.28.1\", \n",
      "    \"X-Amzn-Trace-Id\": \"Root=1-64d2f008-7a3f01ee442f4e1b0d0fffd0\"\n",
      "  }, \n",
      "  \"origin\": \"1.220.201.110\", \n",
      "  \"url\": \"http://httpbin.org/get\"\n",
      "}\n",
      "\n"
     ]
    }
   ],
   "source": [
    "import requests\n",
    "# GET 방식\n",
    "response=requests.get('http://httpbin.org/get')\n",
    "print(response.text)"
   ]
  },
  {
   "cell_type": "code",
   "execution_count": 8,
   "id": "b4d9a12b",
   "metadata": {},
   "outputs": [
    {
     "name": "stdout",
     "output_type": "stream",
     "text": [
      "{\n",
      "  \"args\": {}, \n",
      "  \"data\": \"\", \n",
      "  \"files\": {}, \n",
      "  \"form\": {\n",
      "    \"alias\": \"sonic\", \n",
      "    \"id\": \"mino\", \n",
      "    \"name\": \"\\ubbfc\\ud638\"\n",
      "  }, \n",
      "  \"headers\": {\n",
      "    \"Accept\": \"*/*\", \n",
      "    \"Accept-Encoding\": \"gzip, deflate, br\", \n",
      "    \"Content-Length\": \"43\", \n",
      "    \"Content-Type\": \"application/x-www-form-urlencoded\", \n",
      "    \"Host\": \"httpbin.org\", \n",
      "    \"User-Agent\": \"python-requests/2.28.1\", \n",
      "    \"X-Amzn-Trace-Id\": \"Root=1-64d2f1b6-062dc5935155137935113b2e\"\n",
      "  }, \n",
      "  \"json\": null, \n",
      "  \"origin\": \"1.220.201.110\", \n",
      "  \"url\": \"http://httpbin.org/post\"\n",
      "}\n",
      "\n"
     ]
    }
   ],
   "source": [
    "# POST 는 데이터를 만드니까..\n",
    "dic={'id':'mino', 'name':'민호', 'alias':'sonic'}\n",
    "response=requests.post('http://httpbin.org/post',data=dic)\n",
    "print(response.text)"
   ]
  },
  {
   "cell_type": "markdown",
   "id": "a1053d69",
   "metadata": {},
   "source": [
    "## BeautifulSoup"
   ]
  },
  {
   "cell_type": "code",
   "execution_count": 9,
   "id": "a8c75aca",
   "metadata": {},
   "outputs": [],
   "source": [
    "import requests, bs4"
   ]
  },
  {
   "cell_type": "code",
   "execution_count": 15,
   "id": "1f4618a0",
   "metadata": {},
   "outputs": [
    {
     "name": "stdout",
     "output_type": "stream",
     "text": [
      "금융\n"
     ]
    }
   ],
   "source": [
    "try:\n",
    "    response=requests.get('http://finance.daum.net')\n",
    "#     print(response.text)\n",
    "    # 실제로 이렇게 하면 터질 가능성이 존재합니다.\n",
    "    # 1. 내 인터넷이 안되거나 2. 상대방 서버가 터지거나.\n",
    "    # 예외처리를 해두자.\n",
    "    bs=bs4.BeautifulSoup(response.text, 'html.parser')\n",
    "except Exception as e :\n",
    "    print(\"예외 발생 : \")\n",
    "else:\n",
    "    print(bs.body.span.get_text())"
   ]
  },
  {
   "cell_type": "markdown",
   "id": "218ff94f",
   "metadata": {},
   "source": [
    "## 네이버 팟 캐스트 데이터 가져오기"
   ]
  },
  {
   "cell_type": "code",
   "execution_count": 19,
   "id": "1c12af11",
   "metadata": {},
   "outputs": [
    {
     "name": "stdout",
     "output_type": "stream",
     "text": [
      "[스페셜] '이대호 4연타석 홈런 모음집' 단언컨대, 이 경기의 주인공은 이대호입니다. | JTBC 230807 방송\n",
      "뉴욕 지하철서 10대 소녀, 아시아계 가족 모욕·폭행\n",
      "'같은 맥주 다른 맛' 역대 최다 8점 차에서 취소된 어제 경기 [7AM]\n"
     ]
    }
   ],
   "source": [
    "# 네이버 팟 캐스트에서 원하는 데이터 가져오기\n",
    "try:\n",
    "    response=requests.get(\"https://tv.naver.com/r/category/drama\")\n",
    "    html=response.text\n",
    "#     print(html)\n",
    "    bs=bs4.BeautifulSoup(html,'html.parser')\n",
    "    tags=bs.select(\"a > strong > span\")\n",
    "    for tag in tags:\n",
    "        print(tag.getText())\n",
    "except Exception as e:\n",
    "    print(\"예외 발생\", e)"
   ]
  },
  {
   "cell_type": "markdown",
   "id": "9c2613ce",
   "metadata": {},
   "source": [
    "## Selenium"
   ]
  },
  {
   "cell_type": "code",
   "execution_count": 20,
   "id": "bef2645f",
   "metadata": {},
   "outputs": [],
   "source": [
    "from selenium import webdriver\n",
    "from selenium.webdriver.support.ui import Select\n",
    "from selenium.webdriver.common.by import By\n",
    "from selenium.webdriver.common.keys import Keys\n",
    "# 크롬드라이버 실행파일을 같은 디렉에 놓고 하면 됩니다."
   ]
  },
  {
   "cell_type": "code",
   "execution_count": 34,
   "id": "67dbc423",
   "metadata": {},
   "outputs": [
    {
     "ename": "KeyboardInterrupt",
     "evalue": "",
     "output_type": "error",
     "traceback": [
      "\u001b[1;31m---------------------------------------------------------------------------\u001b[0m",
      "\u001b[1;31mKeyboardInterrupt\u001b[0m                         Traceback (most recent call last)",
      "Cell \u001b[1;32mIn[34], line 10\u001b[0m\n\u001b[0;32m      8\u001b[0m driver\u001b[38;5;241m.\u001b[39mfind_element(By \u001b[38;5;241m.\u001b[39mXPATH,\u001b[38;5;124m'\u001b[39m\u001b[38;5;124m//*[@id=\u001b[39m\u001b[38;5;124m\"\u001b[39m\u001b[38;5;124mpassword--2\u001b[39m\u001b[38;5;124m\"\u001b[39m\u001b[38;5;124m]\u001b[39m\u001b[38;5;124m'\u001b[39m)\u001b[38;5;241m.\u001b[39msend_keys(\u001b[38;5;124m\"\u001b[39m\u001b[38;5;124m12alsgh12\u001b[39m\u001b[38;5;124m\"\u001b[39m)\n\u001b[0;32m      9\u001b[0m driver\u001b[38;5;241m.\u001b[39mfind_element(By \u001b[38;5;241m.\u001b[39mXPATH,\u001b[38;5;124m'\u001b[39m\u001b[38;5;124m//*[@id=\u001b[39m\u001b[38;5;124m\"\u001b[39m\u001b[38;5;124mmainContent\u001b[39m\u001b[38;5;124m\"\u001b[39m\u001b[38;5;124m]/div/div/form/div[4]/button[1]\u001b[39m\u001b[38;5;124m'\u001b[39m)\u001b[38;5;241m.\u001b[39mclick()\n\u001b[1;32m---> 10\u001b[0m \u001b[38;5;28;01mwhile\u001b[39;00m(\u001b[38;5;28;01mTrue\u001b[39;00m):\n\u001b[0;32m     11\u001b[0m     \u001b[38;5;28;01mpass\u001b[39;00m\n",
      "\u001b[1;31mKeyboardInterrupt\u001b[0m: "
     ]
    }
   ],
   "source": [
    "# 크롬 브라우저 실행\n",
    "from selenium import webdriver\n",
    "import os\n",
    "os.environ['webdriver.chrom.driver']='./'\n",
    "driver=webdriver.Chrome()\n",
    "driver.get(\"https://accounts.kakao.com/login/?continue=https%3A%2F%2Faccounts.kakao.com%2Fweblogin%2Faccount%2Finfo#login\")\n",
    "# 입력 상자를 찾아서 입령 상자에 데이터 설정\n",
    "driver.find_element(By .XPATH,'//*[@id=\"loginId--1\"]').send_keys(\"카카오이메일입력\")\n",
    "driver.find_element(By .XPATH,'//*[@id=\"password--2\"]').send_keys(\"카카오 비밀번호 입력\")\n",
    "driver.find_element(By .XPATH,'//*[@id=\"mainContent\"]/div/div/form/div[4]/button[1]').click()\n",
    "while(True):\n",
    "    pass"
   ]
  },
  {
   "cell_type": "code",
   "execution_count": null,
   "id": "b2bda1ff",
   "metadata": {},
   "outputs": [],
   "source": []
  },
  {
   "cell_type": "code",
   "execution_count": 38,
   "id": "e875aa24",
   "metadata": {},
   "outputs": [
    {
     "ename": "KeyboardInterrupt",
     "evalue": "",
     "output_type": "error",
     "traceback": [
      "\u001b[1;31m---------------------------------------------------------------------------\u001b[0m",
      "\u001b[1;31mKeyboardInterrupt\u001b[0m                         Traceback (most recent call last)",
      "Cell \u001b[1;32mIn[38], line 13\u001b[0m\n\u001b[0;32m     10\u001b[0m driver\u001b[38;5;241m.\u001b[39mfind_element(By \u001b[38;5;241m.\u001b[39mXPATH,\u001b[38;5;124m'\u001b[39m\u001b[38;5;124m//*[@id=\u001b[39m\u001b[38;5;124m\"\u001b[39m\u001b[38;5;124mpw\u001b[39m\u001b[38;5;124m\"\u001b[39m\u001b[38;5;124m]\u001b[39m\u001b[38;5;124m'\u001b[39m)\u001b[38;5;241m.\u001b[39msend_keys(\u001b[38;5;124m\"\u001b[39m\u001b[38;5;124mqpwoeiruty12\u001b[39m\u001b[38;5;124m\"\u001b[39m)\n\u001b[0;32m     11\u001b[0m driver\u001b[38;5;241m.\u001b[39mfind_element(By \u001b[38;5;241m.\u001b[39mXPATH,\u001b[38;5;124m'\u001b[39m\u001b[38;5;124m//*[@id=\u001b[39m\u001b[38;5;124m\"\u001b[39m\u001b[38;5;124mlog.login\u001b[39m\u001b[38;5;124m\"\u001b[39m\u001b[38;5;124m]\u001b[39m\u001b[38;5;124m'\u001b[39m)\u001b[38;5;241m.\u001b[39mclick()\n\u001b[1;32m---> 13\u001b[0m \u001b[38;5;28;01mwhile\u001b[39;00m(\u001b[38;5;28;01mTrue\u001b[39;00m):\n\u001b[0;32m     14\u001b[0m     \u001b[38;5;28;01mpass\u001b[39;00m\n",
      "\u001b[1;31mKeyboardInterrupt\u001b[0m: "
     ]
    }
   ],
   "source": [
    "# 크롬 브라우저 실행\n",
    "from selenium import webdriver\n",
    "import os\n",
    "os.environ['webdriver.chrom.driver']='./'\n",
    "driver=webdriver.Chrome()\n",
    "driver.get(\"https://www.naver.com/\")\n",
    "# 입력 상자를 찾아서 입령 상자에 데이터 설정\n",
    "driver.find_element(By .XPATH,'//*[@id=\"account\"]/div/a').click()\n",
    "driver.find_element(By .XPATH,'//*[@id=\"id\"]').send_keys(\"아이디\")\n",
    "driver.find_element(By .XPATH,'//*[@id=\"pw\"]').send_keys(\"비밀번호\")\n",
    "driver.find_element(By .XPATH,'//*[@id=\"log.login\"]').click()\n",
    "# reCAPTCHA 문제만 없다면 가능\n",
    "\n",
    "while(True):\n",
    "    pass"
   ]
  },
  {
   "cell_type": "code",
   "execution_count": 48,
   "id": "0182ed03",
   "metadata": {},
   "outputs": [
    {
     "name": "stderr",
     "output_type": "stream",
     "text": [
      "IOPub data rate exceeded.\n",
      "The notebook server will temporarily stop sending output\n",
      "to the client in order to avoid crashing it.\n",
      "To change this limit, set the config variable\n",
      "`--NotebookApp.iopub_data_rate_limit`.\n",
      "\n",
      "Current values:\n",
      "NotebookApp.iopub_data_rate_limit=1000000.0 (bytes/sec)\n",
      "NotebookApp.rate_limit_window=3.0 (secs)\n",
      "\n"
     ]
    }
   ],
   "source": [
    "# 유튭 \n",
    "import bs4\n",
    "# by 랑 keys 임포트함\n",
    "from selenium import webdriver\n",
    "import os\n",
    "import time\n",
    "os.environ['webdriver.chrom.driver']='./'\n",
    "driver=webdriver.Chrome()\n",
    "keyword=\"lck\"\n",
    "driver.get(\"https://www.youtube.com/results?search_query=\"+keyword)\n",
    "# 현재 페이지가 아닌, N번 스크롤해보자.\n",
    "num_of_pagedowns=1\n",
    "while num_of_pagedowns:\n",
    "    # body 태그에 페이지 다운을 전송해서 하단으로 그래그\n",
    "    driver.find_element(By .TAG_NAME, 'body').send_keys(Keys.PAGE_DOWN)\n",
    "    time.sleep(3)\n",
    "    num_of_pagedowns -=1\n",
    "# N 번 스크롤한 결과 가져오기\n",
    "html=bs4.BeautifulSoup(driver.page_source, 'html.parser')\n",
    "print(html)"
   ]
  },
  {
   "cell_type": "markdown",
   "id": "4eb4b514",
   "metadata": {},
   "source": [
    "## http://www.hani.co.kr/rss/sports/ 에서 title과 link의 태그 내용을 읽어서 DataFrame을 만들어보자.\n"
   ]
  },
  {
   "cell_type": "code",
   "execution_count": 49,
   "id": "d6c63fcd",
   "metadata": {},
   "outputs": [],
   "source": [
    "import xml.etree.ElementTree as et # xml 파싱을 위한 import\n",
    "import urllib.request #웹에서 문자열 다운로드 받기 위해 import"
   ]
  },
  {
   "cell_type": "code",
   "execution_count": 52,
   "id": "bfdc0e7e",
   "metadata": {},
   "outputs": [],
   "source": [
    "#데이터 다운로드\n",
    "url=\"http://www.hani.co.kr/rss/sports\"\n",
    "request=urllib.request.Request(url)\n",
    "response=urllib.request.urlopen(request)\n",
    "# print(response.read())"
   ]
  },
  {
   "cell_type": "code",
   "execution_count": 53,
   "id": "b65ea092",
   "metadata": {},
   "outputs": [
    {
     "name": "stdout",
     "output_type": "stream",
     "text": [
      "<Element 'rss' at 0x000001C1A70282C0>\n"
     ]
    }
   ],
   "source": [
    "# 루트를 찾기, 루트를 찾는게 가장 먼저입니다.\n",
    "tree=et.parse(response)\n",
    "xroot=tree.getroot()\n",
    "print(xroot)"
   ]
  },
  {
   "cell_type": "code",
   "execution_count": 54,
   "id": "c17e6e65",
   "metadata": {},
   "outputs": [
    {
     "name": "stdout",
     "output_type": "stream",
     "text": [
      "[<Element 'channel' at 0x000001C1A7029F80>]\n"
     ]
    }
   ],
   "source": [
    "# 찾고자 하는 태그의 내용을 가져오기\n",
    "channel=xroot.findall('channel')\n",
    "print(channel)"
   ]
  },
  {
   "cell_type": "code",
   "execution_count": 56,
   "id": "0ec7f1c2",
   "metadata": {},
   "outputs": [
    {
     "name": "stdout",
     "output_type": "stream",
     "text": [
      "[<Element 'item' at 0x000001C1A6252C00>, <Element 'item' at 0x000001C1A6253600>, <Element 'item' at 0x000001C1A7274130>, <Element 'item' at 0x000001C1A72743B0>, <Element 'item' at 0x000001C1A7274630>, <Element 'item' at 0x000001C1A72748B0>, <Element 'item' at 0x000001C1A7274B30>, <Element 'item' at 0x000001C1A7274D60>, <Element 'item' at 0x000001C1A7274F90>, <Element 'item' at 0x000001C1A72751C0>, <Element 'item' at 0x000001C1A72753F0>, <Element 'item' at 0x000001C1A7275620>, <Element 'item' at 0x000001C1A72758A0>, <Element 'item' at 0x000001C1A7275B20>, <Element 'item' at 0x000001C1A7275DA0>, <Element 'item' at 0x000001C1A7276020>, <Element 'item' at 0x000001C1A72762A0>, <Element 'item' at 0x000001C1A7276520>, <Element 'item' at 0x000001C1A7276750>, <Element 'item' at 0x000001C1A72769D0>, <Element 'item' at 0x000001C1A7276C50>, <Element 'item' at 0x000001C1A7276ED0>, <Element 'item' at 0x000001C1A7277150>, <Element 'item' at 0x000001C1A7277380>, <Element 'item' at 0x000001C1A7277600>, <Element 'item' at 0x000001C1A7277880>, <Element 'item' at 0x000001C1A7277B00>, <Element 'item' at 0x000001C1A7277D80>, <Element 'item' at 0x000001C1A72B0040>, <Element 'item' at 0x000001C1A72B0270>]\n"
     ]
    }
   ],
   "source": [
    "# channel의 0번 데이터에서 item 태그의 내용 찾아오기\n",
    "items=channel[0].findall('item')\n",
    "print(items)"
   ]
  },
  {
   "cell_type": "code",
   "execution_count": 59,
   "id": "8d05b02b",
   "metadata": {},
   "outputs": [
    {
     "name": "stdout",
     "output_type": "stream",
     "text": [
      "                                    title  \\\n",
      "0           홈런 1위 노시환, 한화 선수 5년 만의 월간 MVP   \n",
      "1     장현석, 다저스와 90만달러 입단 계약…“명문 구단 입단 영광”   \n",
      "2    리빌딩 나선 PSG, 메시·음바페 이어 네이마르도 ‘헤어질 결심’   \n",
      "3            강습 타구 맞은 류현진 “무릎에 멍들었지만 괜찮다”   \n",
      "4            김하성 15경기 연속 멀티 출루…이치로와 타이 기록   \n",
      "5        클리블랜드전 무피안타 류현진, 강습 타구에 무릎 맞고 교체   \n",
      "6       수원FC 공격수 라스 음주운전 적발…“징계·후속 조치할 것”   \n",
      "7            류현진, 시즌 첫 승 노린다…8일 클리블랜드전 등판   \n",
      "8     조규성, 덴마크 데뷔 뒤 3경기 연속골…팀 열세 속 빛난 만회포   \n",
      "9        ‘부상 투혼’ 김효주, LPGA 스코틀랜드 여자오픈 준우승   \n",
      "10      ‘최강’ 미국 여자축구, 16강 승부차기 끝에 스웨덴에 패배   \n",
      "11               ‘제주의 딸’ 임진희, 삼다수 마스터스 우승   \n",
      "12            궤도 오른 프로당구…‘심야 편성’에 팬 반발 커져   \n",
      "13           결승전서 21점 뽑아낸 강소휘…MVP도 3번째 수상   \n",
      "14            공격 돌파구 날린 천가람 “더 강한 선수 되겠다”   \n",
      "15       GS칼텍스, 기업은행에 3-1 설욕…6번째 KOVO컵 정상   \n",
      "16      승패 가른 김가영 샷…“초클루와 연습한 공 나와 짜릿했어요”   \n",
      "17         KBO리그 500만 관중 돌파…평균 관중 1만1033명   \n",
      "18      기업은행, 3-1로 인삼공사 꺾고 결승행…GS칼텍스와 맞대결   \n",
      "19      김연경·박인비 등 6명, IOC 선수위원 ‘국내 후보’ 등록   \n",
      "20   GS칼텍스, 3-1로 현대건설 꺾고 결승행…KOVO컵 2연패 도전   \n",
      "21       기적도 치욕도 반복된다…여자월드컵 강타한 ‘언더도그 돌풍’   \n",
      "22       오타니, 시즌 40호 홈런…오른손 경련으로 투구는 4이닝만   \n",
      "23   KBO리그 500만 관중 오늘 돌파…10개 구단 관중수입 762억   \n",
      "24     에스와이 여성 삼총사 “산체스 정말 ‘진국’…팀 분위기 최고”   \n",
      "25     ‘오기상’이 그리는 안산의 새로운 배구…웃으면서 해도 “OK”   \n",
      "26        여자축구 조소현, 한국 첫·마지막 골 쐈다…독일 탈락시켜   \n",
      "27    네이마르 2골1도움·이강인 24분…PSG, 부산을 파리로 만들다   \n",
      "28            조기성, 세계장애인선수권 개인혼영 150ｍ 은메달   \n",
      "29  여자축구 1년 수입 ‘톱’ 15명 합쳐도…호날두 3분의 1도 안 돼   \n",
      "\n",
      "                                                 link  \n",
      "0   http://www.hani.co.kr/arti/sports/baseball/110...  \n",
      "1   http://www.hani.co.kr/arti/sports/baseball/110...  \n",
      "2   http://www.hani.co.kr/arti/sports/soccer/11034...  \n",
      "3   http://www.hani.co.kr/arti/sports/baseball/110...  \n",
      "4   http://www.hani.co.kr/arti/sports/baseball/110...  \n",
      "5   http://www.hani.co.kr/arti/sports/baseball/110...  \n",
      "6   http://www.hani.co.kr/arti/sports/soccer/11033...  \n",
      "7   http://www.hani.co.kr/arti/sports/baseball/110...  \n",
      "8   http://www.hani.co.kr/arti/sports/soccer/11032...  \n",
      "9   http://www.hani.co.kr/arti/sports/golf/1103254...  \n",
      "10  http://www.hani.co.kr/arti/sports/soccer/11032...  \n",
      "11  http://www.hani.co.kr/arti/sports/golf/1103202...  \n",
      "12  http://www.hani.co.kr/arti/sports/sports_gener...  \n",
      "13    http://www.hani.co.kr/arti/sports//1103188.html  \n",
      "14  http://www.hani.co.kr/arti/sports/soccer/11031...  \n",
      "15    http://www.hani.co.kr/arti/sports//1103131.html  \n",
      "16  http://www.hani.co.kr/arti/sports/sports_gener...  \n",
      "17  http://www.hani.co.kr/arti/sports/baseball/110...  \n",
      "18    http://www.hani.co.kr/arti/sports//1103093.html  \n",
      "19  http://www.hani.co.kr/arti/sports/sports_gener...  \n",
      "20    http://www.hani.co.kr/arti/sports//1103079.html  \n",
      "21  http://www.hani.co.kr/arti/sports/soccer/11030...  \n",
      "22  http://www.hani.co.kr/arti/sports/baseball/110...  \n",
      "23  http://www.hani.co.kr/arti/sports/baseball/110...  \n",
      "24  http://www.hani.co.kr/arti/sports/sports_gener...  \n",
      "25    http://www.hani.co.kr/arti/sports//1102999.html  \n",
      "26  http://www.hani.co.kr/arti/sports/soccer/11029...  \n",
      "27  http://www.hani.co.kr/arti/sports/soccer/11029...  \n",
      "28  http://www.hani.co.kr/arti/sports/sports_gener...  \n",
      "29  http://www.hani.co.kr/arti/sports/soccer/11028...  \n"
     ]
    }
   ],
   "source": [
    "# 자료를 DataFrame으로 만들자.\n",
    "rows=[]\n",
    "for node in items:\n",
    "    s_title=node.find('title').text\n",
    "    s_link=node.find('link').text\n",
    "    rows.append({'title':s_title, 'link':s_link})\n",
    "df=pd.DataFrame(rows,columns=['title','link'])\n",
    "print(df)"
   ]
  },
  {
   "cell_type": "markdown",
   "id": "46859cd5",
   "metadata": {},
   "source": [
    "## json 데이터 파싱"
   ]
  },
  {
   "cell_type": "code",
   "execution_count": 62,
   "id": "cfb2456c",
   "metadata": {},
   "outputs": [
    {
     "data": {
      "text/html": [
       "<div>\n",
       "<style scoped>\n",
       "    .dataframe tbody tr th:only-of-type {\n",
       "        vertical-align: middle;\n",
       "    }\n",
       "\n",
       "    .dataframe tbody tr th {\n",
       "        vertical-align: top;\n",
       "    }\n",
       "\n",
       "    .dataframe thead th {\n",
       "        text-align: right;\n",
       "    }\n",
       "</style>\n",
       "<table border=\"1\" class=\"dataframe\">\n",
       "  <thead>\n",
       "    <tr style=\"text-align: right;\">\n",
       "      <th></th>\n",
       "      <th>hoppin</th>\n",
       "    </tr>\n",
       "  </thead>\n",
       "  <tbody>\n",
       "    <tr>\n",
       "      <th>movies</th>\n",
       "      <td>{'movie': [{'genreNames': '코미디,드라마', 'genreIds...</td>\n",
       "    </tr>\n",
       "    <tr>\n",
       "      <th>totalCount</th>\n",
       "      <td>4266</td>\n",
       "    </tr>\n",
       "  </tbody>\n",
       "</table>\n",
       "</div>"
      ],
      "text/plain": [
       "                                                       hoppin\n",
       "movies      {'movie': [{'genreNames': '코미디,드라마', 'genreIds...\n",
       "totalCount                                               4266"
      ]
     },
     "execution_count": 62,
     "metadata": {},
     "output_type": "execute_result"
    }
   ],
   "source": [
    "df=pd.read_json(\"http://swiftapi.rubypaper.co.kr:2029/hoppin/movies?version=1&page=1&count=30&genreId=&order=releasedateasc\")\n",
    "df.head()"
   ]
  },
  {
   "cell_type": "code",
   "execution_count": 69,
   "id": "2bc9e986",
   "metadata": {},
   "outputs": [
    {
     "name": "stdout",
     "output_type": "stream",
     "text": [
      "                    title                                               link\n",
      "0                    인포먼트  http://swiftapi.rubypaper.co.kr:2029/hoppin/de...\n",
      "1              엣지 오브 다크니스  http://swiftapi.rubypaper.co.kr:2029/hoppin/de...\n",
      "2                   베이비 돌  http://swiftapi.rubypaper.co.kr:2029/hoppin/de...\n",
      "3                 황야의 역마차  http://swiftapi.rubypaper.co.kr:2029/hoppin/de...\n",
      "4                  전원 교향곡  http://swiftapi.rubypaper.co.kr:2029/hoppin/de...\n",
      "5                 아버지의 깃발  http://swiftapi.rubypaper.co.kr:2029/hoppin/de...\n",
      "6                  여덟번의감정  http://swiftapi.rubypaper.co.kr:2029/hoppin/de...\n",
      "7                      레드  http://swiftapi.rubypaper.co.kr:2029/hoppin/de...\n",
      "8                  영광의 탈출  http://swiftapi.rubypaper.co.kr:2029/hoppin/de...\n",
      "9                     크로싱  http://swiftapi.rubypaper.co.kr:2029/hoppin/de...\n",
      "10                 맨 인 블랙  http://swiftapi.rubypaper.co.kr:2029/hoppin/de...\n",
      "11                    차형사  http://swiftapi.rubypaper.co.kr:2029/hoppin/de...\n",
      "12             에이지 오브 드래곤  http://swiftapi.rubypaper.co.kr:2029/hoppin/de...\n",
      "13              로드 오브 워리어  http://swiftapi.rubypaper.co.kr:2029/hoppin/de...\n",
      "14  [메이킹 다큐] 도둑들 영화를 만들다!  http://swiftapi.rubypaper.co.kr:2029/hoppin/de...\n",
      "15               괜찮아요 수달씨  http://swiftapi.rubypaper.co.kr:2029/hoppin/de...\n",
      "16                     파파  http://swiftapi.rubypaper.co.kr:2029/hoppin/de...\n",
      "17                 이케맨 뱅크  http://swiftapi.rubypaper.co.kr:2029/hoppin/de...\n",
      "18           다중인격소녀 ISOLA  http://swiftapi.rubypaper.co.kr:2029/hoppin/de...\n",
      "19                   위조지폐  http://swiftapi.rubypaper.co.kr:2029/hoppin/de...\n",
      "20                 카인과 아벨  http://swiftapi.rubypaper.co.kr:2029/hoppin/de...\n",
      "21                  돌핀 블루  http://swiftapi.rubypaper.co.kr:2029/hoppin/de...\n",
      "22                   더 코드  http://swiftapi.rubypaper.co.kr:2029/hoppin/de...\n",
      "23             철권 블러드 벤전스  http://swiftapi.rubypaper.co.kr:2029/hoppin/de...\n",
      "24       블루 엘리펀트 (우리말 더빙)  http://swiftapi.rubypaper.co.kr:2029/hoppin/de...\n",
      "25             해결사 (2010)  http://swiftapi.rubypaper.co.kr:2029/hoppin/de...\n",
      "26         하나오니 2: 사랑의 시작  http://swiftapi.rubypaper.co.kr:2029/hoppin/de...\n",
      "27         하나오니 3: 복수의 시간  http://swiftapi.rubypaper.co.kr:2029/hoppin/de...\n",
      "28         아테나 전쟁의 여신 극장판  http://swiftapi.rubypaper.co.kr:2029/hoppin/de...\n",
      "29               아이스 프린세스  http://swiftapi.rubypaper.co.kr:2029/hoppin/de...\n"
     ]
    }
   ],
   "source": [
    "hoppin=df['hoppin']\n",
    "# print(hoppin)\n",
    "#아직 안에 데이터가 더 들어있다.\n",
    "movies=hoppin['movies']\n",
    "# print(movies)\n",
    "# movie라는 키가 있네\n",
    "movie=movies['movie']\n",
    "# print(movie)\n",
    "#이제야 리스트에 나옴\n",
    "# for temp in movie:\n",
    "#     print(temp['title'])\n",
    "rows=[]\n",
    "for temp in movie:\n",
    "    s_title=temp['title']\n",
    "    s_link=temp['linkUrl']\n",
    "    rows.append({'title':s_title, 'link':s_link})\n",
    "df=pd.DataFrame(rows,columns=['title','link'])\n",
    "print(df)"
   ]
  },
  {
   "cell_type": "code",
   "execution_count": 71,
   "id": "e980ff5b",
   "metadata": {},
   "outputs": [
    {
     "name": "stdout",
     "output_type": "stream",
     "text": [
      "    integer            datetime  category\n",
      "0         5 2015-01-01 00:00:00         0\n",
      "1         5 2015-01-01 00:00:01         0\n",
      "2         9 2015-01-01 00:00:02         0\n",
      "3         6 2015-01-01 00:00:03         0\n",
      "4         6 2015-01-01 00:00:04         0\n",
      "..      ...                 ...       ...\n",
      "95        9 2015-01-01 00:01:35         0\n",
      "96        8 2015-01-01 00:01:36         0\n",
      "97        6 2015-01-01 00:01:37         0\n",
      "98        8 2015-01-01 00:01:38         0\n",
      "99        1 2015-01-01 00:01:39         0\n",
      "\n",
      "[100 rows x 3 columns]\n"
     ]
    }
   ],
   "source": [
    "# 최신 라이브러리를 사용하면 이런 경우에도 df로 잘 변환이 되지만\n",
    "# 컬럼에 객체가 존재하는 경우에는 제대로 파싱이 수행되지 않는 경우가 있음\n",
    "# 컬럼 이름에 객체가 존재하는 경우는 orient 옵션에 columns를 설정하면 된다.\n",
    "df=pd.read_json(\"https://raw.githubusercontent.com/chrisalbon/simulated_datasets/master/data.json\", orient='columns')\n",
    "print(df)"
   ]
  },
  {
   "cell_type": "markdown",
   "id": "6a5df55d",
   "metadata": {},
   "source": [
    "## KAKAO OPEN API 가져오기 (인증을 곁들인)"
   ]
  },
  {
   "cell_type": "markdown",
   "id": "8bdcbb80",
   "metadata": {},
   "source": [
    "### 모두에게 그냥 데이터를 줄 순 없다. "
   ]
  },
  {
   "cell_type": "code",
   "execution_count": 80,
   "id": "410c0bec",
   "metadata": {},
   "outputs": [
    {
     "name": "stdout",
     "output_type": "stream",
     "text": [
      "남시약국\t서울 중구 남대문로3가 30-15\n",
      "평화약국\t서울 중구 남대문로4가 18-11\n",
      "수도약국\t서울 종로구 관훈동 37\n",
      "종로약국\t서울 종로구 종로4가 8\n",
      "서울중앙약국\t서울 용산구 동자동 43-205\n",
      "서울왕약국\t서울 중구 남창동 2-3\n",
      "왕솔약국\t서울 중구 회현동1가 202-1\n",
      "우정약국\t서울 종로구 종로4가 176-1\n",
      "삼원온누리약국\t서울 종로구 신문로1가 1\n",
      "새원약국\t서울 중구 명동1가 33\n",
      "종오약국\t서울 종로구 종로4가 7\n",
      "남대문약국\t서울 중구 남대문로3가 30-7\n",
      "종각호약국\t서울 종로구 종로2가 75-6\n",
      "푸른온누리약국\t서울 종로구 평동 180\n",
      "서대문권약국\t서울 종로구 평동 169\n"
     ]
    }
   ],
   "source": [
    "import requests\n",
    "import json\n",
    "url=\"https://dapi.kakao.com/v2/local/search/category.json?category_group_code=PM9&rect=126.95,37.55,127.0,37.60\"\n",
    "headers={'Authorization': 'KakaoAK 13056c2a2016e3495f462c3a6bf0ab97'} \n",
    "data=requests.post(url,headers=headers)\n",
    "# print(data.text)\n",
    "result=json.loads(data.text)\n",
    "# print(result)\n",
    "for data in result['documents']:\n",
    "    print(data['place_name'], end='\\t')\n",
    "    print(data['address_name'])"
   ]
  },
  {
   "cell_type": "code",
   "execution_count": null,
   "id": "74f50bff",
   "metadata": {},
   "outputs": [],
   "source": []
  },
  {
   "cell_type": "code",
   "execution_count": null,
   "id": "d1b71d4f",
   "metadata": {},
   "outputs": [],
   "source": []
  },
  {
   "cell_type": "code",
   "execution_count": null,
   "id": "2cf80060",
   "metadata": {},
   "outputs": [],
   "source": []
  },
  {
   "cell_type": "code",
   "execution_count": 64,
   "id": "79ea60c9",
   "metadata": {},
   "outputs": [
    {
     "name": "stdout",
     "output_type": "stream",
     "text": [
      "{'movie': [{'genreNames': '코미디,드라마', 'genreIds': '003,005', 'title': '인포먼트', 'movieId': 'P00000248257', 'linkUrl': 'http://swiftapi.rubypaper.co.kr:2029/hoppin/detailView?movieId=P00000248257', 'participant': '3', 'ratingAverage': '6.7', 'thumbnailImage': 'http://swiftapi.rubypaper.co.kr:2029/thumbnail/REP_00000043009_1_1_0527.jpg'}, {'genreNames': '드라마,스릴러', 'genreIds': '005,006', 'title': '엣지 오브 다크니스', 'movieId': 'P00000248305', 'linkUrl': 'http://swiftapi.rubypaper.co.kr:2029/hoppin/detailView?movieId=P00000248305', 'participant': '17', 'ratingAverage': '6.9', 'thumbnailImage': 'http://swiftapi.rubypaper.co.kr:2029/thumbnail/REP_00000036879_1_1_0818.jpg'}, {'genreNames': '로맨스,드라마', 'genreIds': '016,005', 'title': '베이비 돌', 'movieId': 'P00000248574', 'linkUrl': 'http://swiftapi.rubypaper.co.kr:2029/hoppin/detailView?movieId=P00000248574', 'participant': '2', 'ratingAverage': '6', 'thumbnailImage': 'http://swiftapi.rubypaper.co.kr:2029/thumbnail/REP_GL0000193614_1_1.jpg'}, {'genreNames': '드라마,로맨스', 'genreIds': '005,016', 'title': '황야의 역마차', 'movieId': 'P00000248576', 'linkUrl': 'http://swiftapi.rubypaper.co.kr:2029/hoppin/detailView?movieId=P00000248576', 'participant': '4', 'ratingAverage': '6.3', 'thumbnailImage': 'http://swiftapi.rubypaper.co.kr:2029/thumbnail/REP_GL0000193505_1_1.jpg'}, {'genreNames': '드라마,로맨스', 'genreIds': '005,016', 'title': '전원 교향곡', 'movieId': 'P00000248880', 'linkUrl': 'http://swiftapi.rubypaper.co.kr:2029/hoppin/detailView?movieId=P00000248880', 'participant': '1', 'ratingAverage': '8', 'thumbnailImage': 'http://swiftapi.rubypaper.co.kr:2029/thumbnail/REP_GL0000096285_1_1.jpg'}, {'genreNames': '드라마', 'genreIds': '005', 'title': '아버지의 깃발', 'movieId': 'P00000249209', 'linkUrl': 'http://swiftapi.rubypaper.co.kr:2029/hoppin/detailView?movieId=P00000249209', 'participant': '47', 'ratingAverage': '8', 'thumbnailImage': 'http://swiftapi.rubypaper.co.kr:2029/thumbnail/REP_00000042749_1_1_0215.jpg'}, {'genreNames': '드라마,로맨스', 'genreIds': '005,016', 'title': '여덟번의감정', 'movieId': 'P00000249753', 'linkUrl': 'http://swiftapi.rubypaper.co.kr:2029/hoppin/detailView?movieId=P00000249753', 'participant': '1', 'ratingAverage': '6', 'thumbnailImage': 'http://swiftapi.rubypaper.co.kr:2029/thumbnail/REP_GL0000185556_1_1.jpg'}, {'genreNames': '액션/모험,드라마', 'genreIds': '200,005', 'title': '레드', 'movieId': 'P00000250006', 'linkUrl': 'http://swiftapi.rubypaper.co.kr:2029/hoppin/detailView?movieId=P00000250006', 'participant': '1255', 'ratingAverage': '8.7', 'thumbnailImage': 'http://swiftapi.rubypaper.co.kr:2029/thumbnail/REP_00000042890_1_1_0906.jpg'}, {'genreNames': '드라마', 'genreIds': '005', 'title': '영광의 탈출', 'movieId': 'P00000250388', 'linkUrl': 'http://swiftapi.rubypaper.co.kr:2029/hoppin/detailView?movieId=P00000250388', 'participant': '5', 'ratingAverage': '6.8', 'thumbnailImage': 'http://swiftapi.rubypaper.co.kr:2029/thumbnail/REP_GL0000158468_1_1.jpg'}, {'genreNames': '드라마', 'genreIds': '005', 'title': '크로싱', 'movieId': 'P00000250708', 'linkUrl': 'http://swiftapi.rubypaper.co.kr:2029/hoppin/detailView?movieId=P00000250708', 'participant': '17', 'ratingAverage': '8.8', 'thumbnailImage': 'http://swiftapi.rubypaper.co.kr:2029/thumbnail/REP_00000043430_1_1_0227.jpg'}, {'genreNames': 'SF/판타지,액션/모험,코미디', 'genreIds': '203,200,003', 'title': '맨 인 블랙', 'movieId': 'P00000251280', 'linkUrl': 'http://swiftapi.rubypaper.co.kr:2029/hoppin/detailView?movieId=P00000251280', 'participant': '58', 'ratingAverage': '8.9', 'thumbnailImage': 'http://swiftapi.rubypaper.co.kr:2029/thumbnail/REP_GL0000033721_1_1.jpg'}, {'genreNames': '드라마,코미디', 'genreIds': '005,003', 'title': '차형사', 'movieId': 'P00000252717', 'linkUrl': 'http://swiftapi.rubypaper.co.kr:2029/hoppin/detailView?movieId=P00000252717', 'participant': '275', 'ratingAverage': '8.4', 'thumbnailImage': 'http://swiftapi.rubypaper.co.kr:2029/thumbnail/REP_00000221266_1_1_0302.jpg'}, {'genreNames': '액션/모험', 'genreIds': '200', 'title': '에이지 오브 드래곤', 'movieId': 'P00000252813', 'linkUrl': 'http://swiftapi.rubypaper.co.kr:2029/hoppin/detailView?movieId=P00000252813', 'participant': '7', 'ratingAverage': '3.9', 'thumbnailImage': 'http://swiftapi.rubypaper.co.kr:2029/thumbnail/REP_GL0000234988_1_1_1647.jpg'}, {'genreNames': '액션/모험', 'genreIds': '200', 'title': '로드 오브 워리어', 'movieId': 'P00000254372', 'linkUrl': 'http://swiftapi.rubypaper.co.kr:2029/hoppin/detailView?movieId=P00000254372', 'participant': '7', 'ratingAverage': '7.4', 'thumbnailImage': 'http://swiftapi.rubypaper.co.kr:2029/thumbnail/REP_GL0000239309_1_1_1730.jpg'}, {'genreNames': '다큐멘터리', 'genreIds': '014', 'title': '[메이킹 다큐] 도둑들 영화를 만들다!', 'movieId': 'P00000255852', 'linkUrl': 'http://swiftapi.rubypaper.co.kr:2029/hoppin/detailView?movieId=P00000255852', 'participant': '67', 'ratingAverage': '7.9', 'thumbnailImage': 'http://swiftapi.rubypaper.co.kr:2029/thumbnail/REP_GL0000236733_1_1_1829.jpg'}, {'genreNames': '다큐멘터리', 'genreIds': '014', 'title': '괜찮아요 수달씨', 'movieId': 'P00000256628', 'linkUrl': 'http://swiftapi.rubypaper.co.kr:2029/hoppin/detailView?movieId=P00000256628', 'participant': '2', 'ratingAverage': '7.5', 'thumbnailImage': 'http://swiftapi.rubypaper.co.kr:2029/thumbnail/REP_GL0000234227_1_1_1321.jpg'}, {'genreNames': '로맨스,코미디', 'genreIds': '016,003', 'title': '파파', 'movieId': 'P00000256919', 'linkUrl': 'http://swiftapi.rubypaper.co.kr:2029/hoppin/detailView?movieId=P00000256919', 'participant': '379', 'ratingAverage': '9', 'thumbnailImage': 'http://swiftapi.rubypaper.co.kr:2029/thumbnail/REP_00000196639_1_1_0601.jpg'}, {'genreNames': '로맨스,드라마', 'genreIds': '016,005', 'title': '이케맨 뱅크', 'movieId': 'P00000257174', 'linkUrl': 'http://swiftapi.rubypaper.co.kr:2029/hoppin/detailView?movieId=P00000257174', 'participant': '10', 'ratingAverage': '6.7', 'thumbnailImage': 'http://swiftapi.rubypaper.co.kr:2029/thumbnail/REP_00000036701_1_1_0950.jpg'}, {'genreNames': '공포,스릴러', 'genreIds': '004,006', 'title': '다중인격소녀 ISOLA', 'movieId': 'P00000257175', 'linkUrl': 'http://swiftapi.rubypaper.co.kr:2029/hoppin/detailView?movieId=P00000257175', 'participant': '74', 'ratingAverage': '5.7', 'thumbnailImage': 'http://swiftapi.rubypaper.co.kr:2029/thumbnail/REP_00000036552_1_1_0145.jpg'}, {'genreNames': '드라마,코미디', 'genreIds': '005,003', 'title': '위조지폐', 'movieId': 'P00000257177', 'linkUrl': 'http://swiftapi.rubypaper.co.kr:2029/hoppin/detailView?movieId=P00000257177', 'participant': '17', 'ratingAverage': '6.5', 'thumbnailImage': 'http://swiftapi.rubypaper.co.kr:2029/thumbnail/REP_00000036697_1_1_0951.jpg'}, {'genreNames': '스릴러,드라마', 'genreIds': '006,005', 'title': '카인과 아벨', 'movieId': 'P00000257178', 'linkUrl': 'http://swiftapi.rubypaper.co.kr:2029/hoppin/detailView?movieId=P00000257178', 'participant': '11', 'ratingAverage': '6.9', 'thumbnailImage': 'http://swiftapi.rubypaper.co.kr:2029/thumbnail/REP_00000042638_1_1_0956.jpg'}, {'genreNames': '드라마,어린이/가족', 'genreIds': '005,201', 'title': '돌핀 블루', 'movieId': 'P00000257188', 'linkUrl': 'http://swiftapi.rubypaper.co.kr:2029/hoppin/detailView?movieId=P00000257188', 'participant': '62', 'ratingAverage': '8.2', 'thumbnailImage': 'http://swiftapi.rubypaper.co.kr:2029/thumbnail/REP_00000036565_1_1_0156.jpg'}, {'genreNames': '액션/모험,드라마', 'genreIds': '200,005', 'title': '더 코드', 'movieId': 'P00000257190', 'linkUrl': 'http://swiftapi.rubypaper.co.kr:2029/hoppin/detailView?movieId=P00000257190', 'participant': '7', 'ratingAverage': '7.6', 'thumbnailImage': 'http://swiftapi.rubypaper.co.kr:2029/thumbnail/REP_00000036556_1_1_0146.jpg'}, {'genreNames': '액션/모험,애니메이션', 'genreIds': '200,001', 'title': '철권 블러드 벤전스', 'movieId': 'P00000258120', 'linkUrl': 'http://swiftapi.rubypaper.co.kr:2029/hoppin/detailView?movieId=P00000258120', 'participant': '79', 'ratingAverage': '8', 'thumbnailImage': 'http://swiftapi.rubypaper.co.kr:2029/thumbnail/REP_GL0000206820_1_1_1737.jpg'}, {'genreNames': '애니메이션', 'genreIds': '001', 'title': '블루 엘리펀트 (우리말 더빙)', 'movieId': 'P00000258321', 'linkUrl': 'http://swiftapi.rubypaper.co.kr:2029/hoppin/detailView?movieId=P00000258321', 'participant': '13', 'ratingAverage': '8.8', 'thumbnailImage': 'http://swiftapi.rubypaper.co.kr:2029/thumbnail/REP_GL0000216779_1_1.jpg'}, {'genreNames': '액션/모험,드라마', 'genreIds': '200,005', 'title': '해결사 (2010)', 'movieId': 'P00000259103', 'linkUrl': 'http://swiftapi.rubypaper.co.kr:2029/hoppin/detailView?movieId=P00000259103', 'participant': '382', 'ratingAverage': '8.3', 'thumbnailImage': 'http://swiftapi.rubypaper.co.kr:2029/thumbnail/REP_00000036773_1_1_1222.jpg'}, {'genreNames': 'SF/판타지,드라마', 'genreIds': '203,005', 'title': '하나오니 2: 사랑의 시작', 'movieId': 'P00000260611', 'linkUrl': 'http://swiftapi.rubypaper.co.kr:2029/hoppin/detailView?movieId=P00000260611', 'participant': '39', 'ratingAverage': '8.5', 'thumbnailImage': 'http://swiftapi.rubypaper.co.kr:2029/thumbnail/REP_00000042639_1_1_1000.jpg'}, {'genreNames': 'SF/판타지,드라마', 'genreIds': '203,005', 'title': '하나오니 3: 복수의 시간', 'movieId': 'P00000260612', 'linkUrl': 'http://swiftapi.rubypaper.co.kr:2029/hoppin/detailView?movieId=P00000260612', 'participant': '44', 'ratingAverage': '8.5', 'thumbnailImage': 'http://swiftapi.rubypaper.co.kr:2029/thumbnail/REP_00000042767_1_1_1001.jpg'}, {'genreNames': '액션/모험', 'genreIds': '200', 'title': '아테나 전쟁의 여신 극장판', 'movieId': 'P00000260615', 'linkUrl': 'http://swiftapi.rubypaper.co.kr:2029/hoppin/detailView?movieId=P00000260615', 'participant': '37', 'ratingAverage': '7.7', 'thumbnailImage': 'http://swiftapi.rubypaper.co.kr:2029/thumbnail/REP_00000171680_1_1_0349.jpg'}, {'genreNames': '로맨스,드라마,코미디', 'genreIds': '016,005,003', 'title': '아이스 프린세스', 'movieId': 'P00000260865', 'linkUrl': 'http://swiftapi.rubypaper.co.kr:2029/hoppin/detailView?movieId=P00000260865', 'participant': '70', 'ratingAverage': '8.8', 'thumbnailImage': 'http://swiftapi.rubypaper.co.kr:2029/thumbnail/REP_00000172233_1_1_0608.jpg'}]}\n"
     ]
    }
   ],
   "source": []
  },
  {
   "cell_type": "code",
   "execution_count": 65,
   "id": "6366f3f8",
   "metadata": {},
   "outputs": [
    {
     "name": "stdout",
     "output_type": "stream",
     "text": [
      "[{'genreNames': '코미디,드라마', 'genreIds': '003,005', 'title': '인포먼트', 'movieId': 'P00000248257', 'linkUrl': 'http://swiftapi.rubypaper.co.kr:2029/hoppin/detailView?movieId=P00000248257', 'participant': '3', 'ratingAverage': '6.7', 'thumbnailImage': 'http://swiftapi.rubypaper.co.kr:2029/thumbnail/REP_00000043009_1_1_0527.jpg'}, {'genreNames': '드라마,스릴러', 'genreIds': '005,006', 'title': '엣지 오브 다크니스', 'movieId': 'P00000248305', 'linkUrl': 'http://swiftapi.rubypaper.co.kr:2029/hoppin/detailView?movieId=P00000248305', 'participant': '17', 'ratingAverage': '6.9', 'thumbnailImage': 'http://swiftapi.rubypaper.co.kr:2029/thumbnail/REP_00000036879_1_1_0818.jpg'}, {'genreNames': '로맨스,드라마', 'genreIds': '016,005', 'title': '베이비 돌', 'movieId': 'P00000248574', 'linkUrl': 'http://swiftapi.rubypaper.co.kr:2029/hoppin/detailView?movieId=P00000248574', 'participant': '2', 'ratingAverage': '6', 'thumbnailImage': 'http://swiftapi.rubypaper.co.kr:2029/thumbnail/REP_GL0000193614_1_1.jpg'}, {'genreNames': '드라마,로맨스', 'genreIds': '005,016', 'title': '황야의 역마차', 'movieId': 'P00000248576', 'linkUrl': 'http://swiftapi.rubypaper.co.kr:2029/hoppin/detailView?movieId=P00000248576', 'participant': '4', 'ratingAverage': '6.3', 'thumbnailImage': 'http://swiftapi.rubypaper.co.kr:2029/thumbnail/REP_GL0000193505_1_1.jpg'}, {'genreNames': '드라마,로맨스', 'genreIds': '005,016', 'title': '전원 교향곡', 'movieId': 'P00000248880', 'linkUrl': 'http://swiftapi.rubypaper.co.kr:2029/hoppin/detailView?movieId=P00000248880', 'participant': '1', 'ratingAverage': '8', 'thumbnailImage': 'http://swiftapi.rubypaper.co.kr:2029/thumbnail/REP_GL0000096285_1_1.jpg'}, {'genreNames': '드라마', 'genreIds': '005', 'title': '아버지의 깃발', 'movieId': 'P00000249209', 'linkUrl': 'http://swiftapi.rubypaper.co.kr:2029/hoppin/detailView?movieId=P00000249209', 'participant': '47', 'ratingAverage': '8', 'thumbnailImage': 'http://swiftapi.rubypaper.co.kr:2029/thumbnail/REP_00000042749_1_1_0215.jpg'}, {'genreNames': '드라마,로맨스', 'genreIds': '005,016', 'title': '여덟번의감정', 'movieId': 'P00000249753', 'linkUrl': 'http://swiftapi.rubypaper.co.kr:2029/hoppin/detailView?movieId=P00000249753', 'participant': '1', 'ratingAverage': '6', 'thumbnailImage': 'http://swiftapi.rubypaper.co.kr:2029/thumbnail/REP_GL0000185556_1_1.jpg'}, {'genreNames': '액션/모험,드라마', 'genreIds': '200,005', 'title': '레드', 'movieId': 'P00000250006', 'linkUrl': 'http://swiftapi.rubypaper.co.kr:2029/hoppin/detailView?movieId=P00000250006', 'participant': '1255', 'ratingAverage': '8.7', 'thumbnailImage': 'http://swiftapi.rubypaper.co.kr:2029/thumbnail/REP_00000042890_1_1_0906.jpg'}, {'genreNames': '드라마', 'genreIds': '005', 'title': '영광의 탈출', 'movieId': 'P00000250388', 'linkUrl': 'http://swiftapi.rubypaper.co.kr:2029/hoppin/detailView?movieId=P00000250388', 'participant': '5', 'ratingAverage': '6.8', 'thumbnailImage': 'http://swiftapi.rubypaper.co.kr:2029/thumbnail/REP_GL0000158468_1_1.jpg'}, {'genreNames': '드라마', 'genreIds': '005', 'title': '크로싱', 'movieId': 'P00000250708', 'linkUrl': 'http://swiftapi.rubypaper.co.kr:2029/hoppin/detailView?movieId=P00000250708', 'participant': '17', 'ratingAverage': '8.8', 'thumbnailImage': 'http://swiftapi.rubypaper.co.kr:2029/thumbnail/REP_00000043430_1_1_0227.jpg'}, {'genreNames': 'SF/판타지,액션/모험,코미디', 'genreIds': '203,200,003', 'title': '맨 인 블랙', 'movieId': 'P00000251280', 'linkUrl': 'http://swiftapi.rubypaper.co.kr:2029/hoppin/detailView?movieId=P00000251280', 'participant': '58', 'ratingAverage': '8.9', 'thumbnailImage': 'http://swiftapi.rubypaper.co.kr:2029/thumbnail/REP_GL0000033721_1_1.jpg'}, {'genreNames': '드라마,코미디', 'genreIds': '005,003', 'title': '차형사', 'movieId': 'P00000252717', 'linkUrl': 'http://swiftapi.rubypaper.co.kr:2029/hoppin/detailView?movieId=P00000252717', 'participant': '275', 'ratingAverage': '8.4', 'thumbnailImage': 'http://swiftapi.rubypaper.co.kr:2029/thumbnail/REP_00000221266_1_1_0302.jpg'}, {'genreNames': '액션/모험', 'genreIds': '200', 'title': '에이지 오브 드래곤', 'movieId': 'P00000252813', 'linkUrl': 'http://swiftapi.rubypaper.co.kr:2029/hoppin/detailView?movieId=P00000252813', 'participant': '7', 'ratingAverage': '3.9', 'thumbnailImage': 'http://swiftapi.rubypaper.co.kr:2029/thumbnail/REP_GL0000234988_1_1_1647.jpg'}, {'genreNames': '액션/모험', 'genreIds': '200', 'title': '로드 오브 워리어', 'movieId': 'P00000254372', 'linkUrl': 'http://swiftapi.rubypaper.co.kr:2029/hoppin/detailView?movieId=P00000254372', 'participant': '7', 'ratingAverage': '7.4', 'thumbnailImage': 'http://swiftapi.rubypaper.co.kr:2029/thumbnail/REP_GL0000239309_1_1_1730.jpg'}, {'genreNames': '다큐멘터리', 'genreIds': '014', 'title': '[메이킹 다큐] 도둑들 영화를 만들다!', 'movieId': 'P00000255852', 'linkUrl': 'http://swiftapi.rubypaper.co.kr:2029/hoppin/detailView?movieId=P00000255852', 'participant': '67', 'ratingAverage': '7.9', 'thumbnailImage': 'http://swiftapi.rubypaper.co.kr:2029/thumbnail/REP_GL0000236733_1_1_1829.jpg'}, {'genreNames': '다큐멘터리', 'genreIds': '014', 'title': '괜찮아요 수달씨', 'movieId': 'P00000256628', 'linkUrl': 'http://swiftapi.rubypaper.co.kr:2029/hoppin/detailView?movieId=P00000256628', 'participant': '2', 'ratingAverage': '7.5', 'thumbnailImage': 'http://swiftapi.rubypaper.co.kr:2029/thumbnail/REP_GL0000234227_1_1_1321.jpg'}, {'genreNames': '로맨스,코미디', 'genreIds': '016,003', 'title': '파파', 'movieId': 'P00000256919', 'linkUrl': 'http://swiftapi.rubypaper.co.kr:2029/hoppin/detailView?movieId=P00000256919', 'participant': '379', 'ratingAverage': '9', 'thumbnailImage': 'http://swiftapi.rubypaper.co.kr:2029/thumbnail/REP_00000196639_1_1_0601.jpg'}, {'genreNames': '로맨스,드라마', 'genreIds': '016,005', 'title': '이케맨 뱅크', 'movieId': 'P00000257174', 'linkUrl': 'http://swiftapi.rubypaper.co.kr:2029/hoppin/detailView?movieId=P00000257174', 'participant': '10', 'ratingAverage': '6.7', 'thumbnailImage': 'http://swiftapi.rubypaper.co.kr:2029/thumbnail/REP_00000036701_1_1_0950.jpg'}, {'genreNames': '공포,스릴러', 'genreIds': '004,006', 'title': '다중인격소녀 ISOLA', 'movieId': 'P00000257175', 'linkUrl': 'http://swiftapi.rubypaper.co.kr:2029/hoppin/detailView?movieId=P00000257175', 'participant': '74', 'ratingAverage': '5.7', 'thumbnailImage': 'http://swiftapi.rubypaper.co.kr:2029/thumbnail/REP_00000036552_1_1_0145.jpg'}, {'genreNames': '드라마,코미디', 'genreIds': '005,003', 'title': '위조지폐', 'movieId': 'P00000257177', 'linkUrl': 'http://swiftapi.rubypaper.co.kr:2029/hoppin/detailView?movieId=P00000257177', 'participant': '17', 'ratingAverage': '6.5', 'thumbnailImage': 'http://swiftapi.rubypaper.co.kr:2029/thumbnail/REP_00000036697_1_1_0951.jpg'}, {'genreNames': '스릴러,드라마', 'genreIds': '006,005', 'title': '카인과 아벨', 'movieId': 'P00000257178', 'linkUrl': 'http://swiftapi.rubypaper.co.kr:2029/hoppin/detailView?movieId=P00000257178', 'participant': '11', 'ratingAverage': '6.9', 'thumbnailImage': 'http://swiftapi.rubypaper.co.kr:2029/thumbnail/REP_00000042638_1_1_0956.jpg'}, {'genreNames': '드라마,어린이/가족', 'genreIds': '005,201', 'title': '돌핀 블루', 'movieId': 'P00000257188', 'linkUrl': 'http://swiftapi.rubypaper.co.kr:2029/hoppin/detailView?movieId=P00000257188', 'participant': '62', 'ratingAverage': '8.2', 'thumbnailImage': 'http://swiftapi.rubypaper.co.kr:2029/thumbnail/REP_00000036565_1_1_0156.jpg'}, {'genreNames': '액션/모험,드라마', 'genreIds': '200,005', 'title': '더 코드', 'movieId': 'P00000257190', 'linkUrl': 'http://swiftapi.rubypaper.co.kr:2029/hoppin/detailView?movieId=P00000257190', 'participant': '7', 'ratingAverage': '7.6', 'thumbnailImage': 'http://swiftapi.rubypaper.co.kr:2029/thumbnail/REP_00000036556_1_1_0146.jpg'}, {'genreNames': '액션/모험,애니메이션', 'genreIds': '200,001', 'title': '철권 블러드 벤전스', 'movieId': 'P00000258120', 'linkUrl': 'http://swiftapi.rubypaper.co.kr:2029/hoppin/detailView?movieId=P00000258120', 'participant': '79', 'ratingAverage': '8', 'thumbnailImage': 'http://swiftapi.rubypaper.co.kr:2029/thumbnail/REP_GL0000206820_1_1_1737.jpg'}, {'genreNames': '애니메이션', 'genreIds': '001', 'title': '블루 엘리펀트 (우리말 더빙)', 'movieId': 'P00000258321', 'linkUrl': 'http://swiftapi.rubypaper.co.kr:2029/hoppin/detailView?movieId=P00000258321', 'participant': '13', 'ratingAverage': '8.8', 'thumbnailImage': 'http://swiftapi.rubypaper.co.kr:2029/thumbnail/REP_GL0000216779_1_1.jpg'}, {'genreNames': '액션/모험,드라마', 'genreIds': '200,005', 'title': '해결사 (2010)', 'movieId': 'P00000259103', 'linkUrl': 'http://swiftapi.rubypaper.co.kr:2029/hoppin/detailView?movieId=P00000259103', 'participant': '382', 'ratingAverage': '8.3', 'thumbnailImage': 'http://swiftapi.rubypaper.co.kr:2029/thumbnail/REP_00000036773_1_1_1222.jpg'}, {'genreNames': 'SF/판타지,드라마', 'genreIds': '203,005', 'title': '하나오니 2: 사랑의 시작', 'movieId': 'P00000260611', 'linkUrl': 'http://swiftapi.rubypaper.co.kr:2029/hoppin/detailView?movieId=P00000260611', 'participant': '39', 'ratingAverage': '8.5', 'thumbnailImage': 'http://swiftapi.rubypaper.co.kr:2029/thumbnail/REP_00000042639_1_1_1000.jpg'}, {'genreNames': 'SF/판타지,드라마', 'genreIds': '203,005', 'title': '하나오니 3: 복수의 시간', 'movieId': 'P00000260612', 'linkUrl': 'http://swiftapi.rubypaper.co.kr:2029/hoppin/detailView?movieId=P00000260612', 'participant': '44', 'ratingAverage': '8.5', 'thumbnailImage': 'http://swiftapi.rubypaper.co.kr:2029/thumbnail/REP_00000042767_1_1_1001.jpg'}, {'genreNames': '액션/모험', 'genreIds': '200', 'title': '아테나 전쟁의 여신 극장판', 'movieId': 'P00000260615', 'linkUrl': 'http://swiftapi.rubypaper.co.kr:2029/hoppin/detailView?movieId=P00000260615', 'participant': '37', 'ratingAverage': '7.7', 'thumbnailImage': 'http://swiftapi.rubypaper.co.kr:2029/thumbnail/REP_00000171680_1_1_0349.jpg'}, {'genreNames': '로맨스,드라마,코미디', 'genreIds': '016,005,003', 'title': '아이스 프린세스', 'movieId': 'P00000260865', 'linkUrl': 'http://swiftapi.rubypaper.co.kr:2029/hoppin/detailView?movieId=P00000260865', 'participant': '70', 'ratingAverage': '8.8', 'thumbnailImage': 'http://swiftapi.rubypaper.co.kr:2029/thumbnail/REP_00000172233_1_1_0608.jpg'}]\n"
     ]
    }
   ],
   "source": []
  },
  {
   "cell_type": "code",
   "execution_count": null,
   "id": "e166cc0c",
   "metadata": {},
   "outputs": [],
   "source": []
  },
  {
   "cell_type": "code",
   "execution_count": null,
   "id": "3cd2acfa",
   "metadata": {},
   "outputs": [],
   "source": []
  },
  {
   "cell_type": "code",
   "execution_count": null,
   "id": "a1511ca0",
   "metadata": {},
   "outputs": [],
   "source": []
  },
  {
   "cell_type": "code",
   "execution_count": null,
   "id": "8173d004",
   "metadata": {},
   "outputs": [],
   "source": []
  },
  {
   "cell_type": "code",
   "execution_count": null,
   "id": "fdd5e041",
   "metadata": {},
   "outputs": [],
   "source": [
    "\n"
   ]
  },
  {
   "cell_type": "code",
   "execution_count": null,
   "id": "fe91cf2e",
   "metadata": {},
   "outputs": [],
   "source": []
  },
  {
   "cell_type": "code",
   "execution_count": null,
   "id": "7d1f981e",
   "metadata": {},
   "outputs": [],
   "source": []
  },
  {
   "cell_type": "code",
   "execution_count": null,
   "id": "cf8b1433",
   "metadata": {},
   "outputs": [],
   "source": []
  },
  {
   "cell_type": "code",
   "execution_count": null,
   "id": "ab3d518c",
   "metadata": {},
   "outputs": [],
   "source": []
  },
  {
   "cell_type": "code",
   "execution_count": null,
   "id": "04b66bd0",
   "metadata": {},
   "outputs": [],
   "source": []
  },
  {
   "cell_type": "code",
   "execution_count": null,
   "id": "2a6514c3",
   "metadata": {},
   "outputs": [],
   "source": []
  },
  {
   "cell_type": "code",
   "execution_count": null,
   "id": "667fcddd",
   "metadata": {},
   "outputs": [],
   "source": []
  },
  {
   "cell_type": "code",
   "execution_count": null,
   "id": "00195eea",
   "metadata": {},
   "outputs": [],
   "source": []
  },
  {
   "cell_type": "code",
   "execution_count": null,
   "id": "bb0cd011",
   "metadata": {},
   "outputs": [],
   "source": []
  },
  {
   "cell_type": "code",
   "execution_count": null,
   "id": "28bd1df6",
   "metadata": {},
   "outputs": [],
   "source": []
  },
  {
   "cell_type": "code",
   "execution_count": null,
   "id": "96e032f2",
   "metadata": {},
   "outputs": [],
   "source": []
  },
  {
   "cell_type": "code",
   "execution_count": null,
   "id": "64b4b8d6",
   "metadata": {},
   "outputs": [],
   "source": []
  },
  {
   "cell_type": "code",
   "execution_count": null,
   "id": "32103baf",
   "metadata": {},
   "outputs": [],
   "source": []
  },
  {
   "cell_type": "code",
   "execution_count": null,
   "id": "8cc52f9b",
   "metadata": {},
   "outputs": [],
   "source": []
  },
  {
   "cell_type": "code",
   "execution_count": null,
   "id": "a11e5ed3",
   "metadata": {},
   "outputs": [],
   "source": []
  },
  {
   "cell_type": "code",
   "execution_count": null,
   "id": "d5743c6c",
   "metadata": {},
   "outputs": [],
   "source": []
  },
  {
   "cell_type": "code",
   "execution_count": null,
   "id": "9e128bdf",
   "metadata": {},
   "outputs": [],
   "source": []
  },
  {
   "cell_type": "code",
   "execution_count": null,
   "id": "cf61c1e8",
   "metadata": {},
   "outputs": [],
   "source": []
  },
  {
   "cell_type": "code",
   "execution_count": null,
   "id": "f16c2b74",
   "metadata": {},
   "outputs": [],
   "source": []
  },
  {
   "cell_type": "code",
   "execution_count": null,
   "id": "0096abd6",
   "metadata": {},
   "outputs": [],
   "source": []
  },
  {
   "cell_type": "code",
   "execution_count": null,
   "id": "b100b684",
   "metadata": {},
   "outputs": [],
   "source": []
  },
  {
   "cell_type": "code",
   "execution_count": null,
   "id": "08a038b2",
   "metadata": {},
   "outputs": [],
   "source": []
  },
  {
   "cell_type": "code",
   "execution_count": null,
   "id": "ad01dbd1",
   "metadata": {},
   "outputs": [],
   "source": []
  },
  {
   "cell_type": "code",
   "execution_count": null,
   "id": "3928b8a0",
   "metadata": {},
   "outputs": [],
   "source": [
    "\n"
   ]
  },
  {
   "cell_type": "code",
   "execution_count": null,
   "id": "dd191deb",
   "metadata": {},
   "outputs": [],
   "source": []
  },
  {
   "cell_type": "code",
   "execution_count": null,
   "id": "efb3a27e",
   "metadata": {},
   "outputs": [],
   "source": []
  },
  {
   "cell_type": "code",
   "execution_count": null,
   "id": "8826ac61",
   "metadata": {},
   "outputs": [],
   "source": []
  },
  {
   "cell_type": "code",
   "execution_count": null,
   "id": "9373f573",
   "metadata": {},
   "outputs": [],
   "source": []
  },
  {
   "cell_type": "code",
   "execution_count": null,
   "id": "4f8fd3cc",
   "metadata": {},
   "outputs": [],
   "source": []
  },
  {
   "cell_type": "code",
   "execution_count": null,
   "id": "3b642add",
   "metadata": {},
   "outputs": [],
   "source": []
  },
  {
   "cell_type": "code",
   "execution_count": null,
   "id": "e7342daa",
   "metadata": {},
   "outputs": [],
   "source": []
  }
 ],
 "metadata": {
  "kernelspec": {
   "display_name": "Python 3 (ipykernel)",
   "language": "python",
   "name": "python3"
  },
  "language_info": {
   "codemirror_mode": {
    "name": "ipython",
    "version": 3
   },
   "file_extension": ".py",
   "mimetype": "text/x-python",
   "name": "python",
   "nbconvert_exporter": "python",
   "pygments_lexer": "ipython3",
   "version": "3.10.9"
  }
 },
 "nbformat": 4,
 "nbformat_minor": 5
}
