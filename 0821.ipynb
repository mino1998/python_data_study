{
 "cells": [
  {
   "cell_type": "markdown",
   "id": "4f37332d",
   "metadata": {},
   "source": [
    "## 기본 import"
   ]
  },
  {
   "cell_type": "code",
   "execution_count": 1,
   "id": "ea2d5256",
   "metadata": {},
   "outputs": [],
   "source": [
    "import numpy as np\n",
    "import pandas as pd\n",
    "import matplotlib.pyplot as plt\n",
    "import seaborn as sns\n",
    "import os\n",
    "# 한글 출력을 위한 설정\n",
    "from matplotlib import font_manager, rc\n",
    "import platform\n",
    "if platform.system()=='Darwin':\n",
    "    rc('font', family='AppleGothic')\n",
    "elif platform.system()=='Windows':\n",
    "    font_name=font_manager.FontProperties(fname='c:/Windows/Fonts/malgun.ttf').get_name()\n",
    "    rc('font', family=font_name)\n",
    "# 음수 사용(마이너스 기호 깨짐 방지)\n",
    "plt.rcParams['axes.unicode_minus'] = False"
   ]
  },
  {
   "cell_type": "markdown",
   "id": "0bfb4241",
   "metadata": {},
   "source": [
    "## data 준비"
   ]
  },
  {
   "cell_type": "code",
   "execution_count": 3,
   "id": "ad37dad9",
   "metadata": {},
   "outputs": [
    {
     "name": "stdout",
     "output_type": "stream",
     "text": [
      "         Date  Close  Start   High    Low  Volume\n",
      "0  2018-07-02  10100  10850  10900  10000  137977\n",
      "1  2018-06-29  10700  10550  10900   9990  170253\n",
      "2  2018-06-28  10400  10900  10950  10150  155769\n",
      "3  2018-06-27  10900  10800  11050  10500  133548\n",
      "4  2018-06-26  10800  10900  11000  10700   63039\n",
      "<class 'pandas.core.frame.DataFrame'>\n",
      "RangeIndex: 20 entries, 0 to 19\n",
      "Data columns (total 6 columns):\n",
      " #   Column  Non-Null Count  Dtype \n",
      "---  ------  --------------  ----- \n",
      " 0   Date    20 non-null     object\n",
      " 1   Close   20 non-null     int64 \n",
      " 2   Start   20 non-null     int64 \n",
      " 3   High    20 non-null     int64 \n",
      " 4   Low     20 non-null     int64 \n",
      " 5   Volume  20 non-null     int64 \n",
      "dtypes: int64(5), object(1)\n",
      "memory usage: 1.1+ KB\n"
     ]
    }
   ],
   "source": [
    "df=pd.read_csv('./data/stock-data.csv')\n",
    "print(df.head())\n",
    "df.info()\n",
    "# date는 날짜 데이터 같은데 object type으로 되어있다."
   ]
  },
  {
   "cell_type": "code",
   "execution_count": 10,
   "id": "5a9e5fa1",
   "metadata": {},
   "outputs": [
    {
     "name": "stdout",
     "output_type": "stream",
     "text": [
      "<class 'pandas.core.frame.DataFrame'>\n",
      "DatetimeIndex: 20 entries, 2018-07-02 to 2018-06-01\n",
      "Data columns (total 7 columns):\n",
      " #   Column   Non-Null Count  Dtype         \n",
      "---  ------   --------------  -----         \n",
      " 0   Date     20 non-null     object        \n",
      " 1   Close    20 non-null     int64         \n",
      " 2   Start    20 non-null     int64         \n",
      " 3   High     20 non-null     int64         \n",
      " 4   Low      20 non-null     int64         \n",
      " 5   Volume   20 non-null     int64         \n",
      " 6   NewDate  20 non-null     datetime64[ns]\n",
      "dtypes: datetime64[ns](1), int64(5), object(1)\n",
      "memory usage: 1.8+ KB\n"
     ]
    }
   ],
   "source": [
    "# 날짜 자료형을 변경해서 새로운 필드로 저장하기\n",
    "df['NewDate']=pd.to_datetime(df['Date'])\n",
    "df.info()"
   ]
  },
  {
   "cell_type": "code",
   "execution_count": 11,
   "id": "296645d7",
   "metadata": {},
   "outputs": [
    {
     "data": {
      "text/html": [
       "<div>\n",
       "<style scoped>\n",
       "    .dataframe tbody tr th:only-of-type {\n",
       "        vertical-align: middle;\n",
       "    }\n",
       "\n",
       "    .dataframe tbody tr th {\n",
       "        vertical-align: top;\n",
       "    }\n",
       "\n",
       "    .dataframe thead th {\n",
       "        text-align: right;\n",
       "    }\n",
       "</style>\n",
       "<table border=\"1\" class=\"dataframe\">\n",
       "  <thead>\n",
       "    <tr style=\"text-align: right;\">\n",
       "      <th></th>\n",
       "      <th>Close</th>\n",
       "      <th>Start</th>\n",
       "      <th>High</th>\n",
       "      <th>Low</th>\n",
       "      <th>Volume</th>\n",
       "      <th>NewDate</th>\n",
       "    </tr>\n",
       "    <tr>\n",
       "      <th>NewDate</th>\n",
       "      <th></th>\n",
       "      <th></th>\n",
       "      <th></th>\n",
       "      <th></th>\n",
       "      <th></th>\n",
       "      <th></th>\n",
       "    </tr>\n",
       "  </thead>\n",
       "  <tbody>\n",
       "    <tr>\n",
       "      <th>2018-07-02</th>\n",
       "      <td>10100</td>\n",
       "      <td>10850</td>\n",
       "      <td>10900</td>\n",
       "      <td>10000</td>\n",
       "      <td>137977</td>\n",
       "      <td>2018-07-02</td>\n",
       "    </tr>\n",
       "    <tr>\n",
       "      <th>2018-06-29</th>\n",
       "      <td>10700</td>\n",
       "      <td>10550</td>\n",
       "      <td>10900</td>\n",
       "      <td>9990</td>\n",
       "      <td>170253</td>\n",
       "      <td>2018-06-29</td>\n",
       "    </tr>\n",
       "    <tr>\n",
       "      <th>2018-06-28</th>\n",
       "      <td>10400</td>\n",
       "      <td>10900</td>\n",
       "      <td>10950</td>\n",
       "      <td>10150</td>\n",
       "      <td>155769</td>\n",
       "      <td>2018-06-28</td>\n",
       "    </tr>\n",
       "    <tr>\n",
       "      <th>2018-06-27</th>\n",
       "      <td>10900</td>\n",
       "      <td>10800</td>\n",
       "      <td>11050</td>\n",
       "      <td>10500</td>\n",
       "      <td>133548</td>\n",
       "      <td>2018-06-27</td>\n",
       "    </tr>\n",
       "    <tr>\n",
       "      <th>2018-06-26</th>\n",
       "      <td>10800</td>\n",
       "      <td>10900</td>\n",
       "      <td>11000</td>\n",
       "      <td>10700</td>\n",
       "      <td>63039</td>\n",
       "      <td>2018-06-26</td>\n",
       "    </tr>\n",
       "  </tbody>\n",
       "</table>\n",
       "</div>"
      ],
      "text/plain": [
       "            Close  Start   High    Low  Volume    NewDate\n",
       "NewDate                                                  \n",
       "2018-07-02  10100  10850  10900  10000  137977 2018-07-02\n",
       "2018-06-29  10700  10550  10900   9990  170253 2018-06-29\n",
       "2018-06-28  10400  10900  10950  10150  155769 2018-06-28\n",
       "2018-06-27  10900  10800  11050  10500  133548 2018-06-27\n",
       "2018-06-26  10800  10900  11000  10700   63039 2018-06-26"
      ]
     },
     "execution_count": 11,
     "metadata": {},
     "output_type": "execute_result"
    }
   ],
   "source": [
    "# 새로 만들어진 날짜 컬럼을 인덱스로 지정하고 기존의 날짜 컬럼 삭제\n",
    "df.set_index(df['NewDate'], inplace=True)\n",
    "df.drop('Date',axis=1, inplace=True)\n",
    "df.head()"
   ]
  },
  {
   "cell_type": "markdown",
   "id": "46054742",
   "metadata": {},
   "source": [
    "### 샘플 데이터 추가하기"
   ]
  },
  {
   "cell_type": "code",
   "execution_count": 15,
   "id": "8377ef42",
   "metadata": {},
   "outputs": [
    {
     "name": "stdout",
     "output_type": "stream",
     "text": [
      "[Timestamp('2005-04-03 23:35:00'), '04-09-2005 09:09 TM']\n",
      "[Timestamp('2005-04-03 23:35:00'), NaT]\n"
     ]
    }
   ],
   "source": [
    "# 첫 번째 데이터는 날짜로 변경 가능한 데이터\n",
    "# 두 번째 데이터는 날짜로 변경 불가능한 데이터 (TM 오타)\n",
    "date_strings=np.array([\n",
    "    '03-04-2005 11:35 PM', '04-09-2005 09:09 TM'])\n",
    "# 예외 발생\n",
    "# print([pd.to_datetime(date, format='%d-%m-%Y %I:%M %p') for date in date_strings])\n",
    "# errors 관련 (예외) 옵션이 존재한다.\n",
    "print([pd.to_datetime(date, format='%d-%m-%Y %I:%M %p', errors='ignore') for date in date_strings])\n",
    "# list에서는 데이터의 자료형이 달라도 상관없지만,\n",
    "# array나 DF 로 변환해서 사용할 때 문제가 발생할 수 있기에 권장하지 않습니다.\n",
    "print([pd.to_datetime(date, format='%d-%m-%Y %I:%M %p', errors='coerce') for date in date_strings])\n",
    "# 변환이 되지 않는 경우에는 coerce는 NaT로 변환해버림\n",
    "# 이러면 array나 df 변환 시 datatype은 보존할 수 있다.\n",
    "print([pd.to_datetime(date, format='%d-%m-%Y %I:%M %p', errors='raise') for date in date_strings])\n",
    "# errors='raise'는 default로 처음과 같이\n",
    "# 에러가 발생하면 예외발생처리하고 종료해버린다."
   ]
  },
  {
   "cell_type": "code",
   "execution_count": 20,
   "id": "a3e489df",
   "metadata": {},
   "outputs": [
    {
     "data": {
      "text/plain": [
       "PeriodIndex(['2023-01', '2023-02', '2023-02', '2023-04'], dtype='period[M]')"
      ]
     },
     "execution_count": 20,
     "metadata": {},
     "output_type": "execute_result"
    }
   ],
   "source": [
    "date_strings=np.array([\n",
    "    '2023-01-01', '2023-02-02','2023-02-20', '2023-04-05'])\n",
    "pddates=pd.to_datetime(date_strings)\n",
    "pr_months=pddates.to_period(freq='M')\n",
    "pr_months \n",
    "# 이렇게 된다면 '일' 이 잘리고 '월' 까지만 남는다."
   ]
  },
  {
   "cell_type": "code",
   "execution_count": 24,
   "id": "d57a5852",
   "metadata": {},
   "outputs": [
    {
     "name": "stdout",
     "output_type": "stream",
     "text": [
      "DatetimeIndex(['2023-01-01 00:00:00+09:00', '2023-02-01 00:00:00+09:00',\n",
      "               '2023-03-01 00:00:00+09:00', '2023-04-01 00:00:00+09:00',\n",
      "               '2023-05-01 00:00:00+09:00', '2023-06-01 00:00:00+09:00',\n",
      "               '2023-07-01 00:00:00+09:00', '2023-08-01 00:00:00+09:00',\n",
      "               '2023-09-01 00:00:00+09:00', '2023-10-01 00:00:00+09:00',\n",
      "               '2023-11-01 00:00:00+09:00', '2023-12-01 00:00:00+09:00'],\n",
      "              dtype='datetime64[ns, Asia/Seoul]', freq='MS')\n"
     ]
    }
   ],
   "source": [
    "# 2023년 1월 1일부터 월 단위로 12개를 생성해보고 싶어\n",
    "ts_ms=pd.date_range(start='2023-01-01',\n",
    "                    periods=12,\n",
    "                    freq='MS', # 월초\n",
    "                    tz='Asia/Seoul')\n",
    "print(ts_ms)"
   ]
  },
  {
   "cell_type": "code",
   "execution_count": 31,
   "id": "444f0166",
   "metadata": {},
   "outputs": [
    {
     "name": "stdout",
     "output_type": "stream",
     "text": [
      "            Close  Start   High    Low  Volume\n",
      "NewDate                                       \n",
      "2018-06-29  10700  10550  10900   9990  170253\n",
      "2018-06-28  10400  10900  10950  10150  155769\n",
      "2018-06-27  10900  10800  11050  10500  133548\n",
      "2018-06-26  10800  10900  11000  10700   63039\n",
      "2018-06-25  11150  11400  11450  11000   55519\n"
     ]
    }
   ],
   "source": [
    "# 데이터를 가져와서 문자열을 날짜로 다시 변경해두자.\n",
    "df=pd.read_csv('./data/stock-data.csv')\n",
    "df['NewDate']=pd.to_datetime(df['Date'])\n",
    "df.set_index('NewDate', inplace=True)\n",
    "df.drop('Date',axis=1, inplace=True)\n",
    "# df.head()\n",
    "# 날짜 인덱스여서 일부분만 가지고도 인덱싱 가능합니다.\n",
    "# 문자열은 죽었다 깨어나도 안됩니다.\n",
    "# df_y=df['2018-06']\n",
    "# print(df_y.head())\n",
    "# 범위도 가능하다, 어떤 컬럼을 할건지까지 할거면 loc 해주자.\n",
    "df_y=df.loc['2018-06-25':'2018-06-30', 'Start':'Low']\n",
    "print(df_y.head())"
   ]
  },
  {
   "cell_type": "code",
   "execution_count": 40,
   "id": "520e849a",
   "metadata": {},
   "outputs": [
    {
     "name": "stdout",
     "output_type": "stream",
     "text": [
      "            Sales\n",
      "2023-01-31    1.0\n",
      "2023-02-28    2.0\n",
      "2023-03-31    3.0\n",
      "2023-04-30    4.0\n",
      "2023-05-31    5.0\n"
     ]
    }
   ],
   "source": [
    "# 결측치 처리\n",
    "time_index=pd.date_range('01-01-2023', periods=5, freq='M')\n",
    "dataframe=pd.DataFrame(index=time_index)\n",
    "dataframe['Sales']=[1.0,2.0,np.nan, np.nan, 5.0]\n",
    "# print(dataframe)\n",
    "# 앞의 데이터로 채우기\n",
    "# print(datafram.ffill())\n",
    "# 선형 보간 - 일차식\n",
    "print(dataframe.interpolate())\n",
    "# 비선형 보간 - 다항식 \n",
    "# print(dataframe.interpolate(method='quadratic'))"
   ]
  },
  {
   "cell_type": "code",
   "execution_count": 43,
   "id": "464fb2d4",
   "metadata": {},
   "outputs": [
    {
     "name": "stdout",
     "output_type": "stream",
     "text": [
      "            Sales  Stock_Price\n",
      "2023-01-31    NaN          NaN\n",
      "2023-02-28    1.5          1.5\n",
      "2023-03-31    NaN          2.5\n",
      "2023-04-30    NaN          3.5\n",
      "2023-05-31    NaN          4.5\n",
      "               Sales  Stock_Price\n",
      "2023-01-31  1.000000     1.000000\n",
      "2023-02-28  1.750000     1.750000\n",
      "2023-03-31  1.750000     2.615385\n",
      "2023-04-30  1.750000     3.550000\n",
      "2023-05-31  4.847059     4.520661\n"
     ]
    }
   ],
   "source": [
    "dataframe['Stock_Price']=[1,2,3,4,5]\n",
    "# 단순 이동 평균\n",
    "print(dataframe.rolling(window=2).mean())\n",
    "# 지수 이동 평균\n",
    "print(dataframe.ewm(span=2).mean())"
   ]
  }
 ],
 "metadata": {
  "kernelspec": {
   "display_name": "Python 3 (ipykernel)",
   "language": "python",
   "name": "python3"
  },
  "language_info": {
   "codemirror_mode": {
    "name": "ipython",
    "version": 3
   },
   "file_extension": ".py",
   "mimetype": "text/x-python",
   "name": "python",
   "nbconvert_exporter": "python",
   "pygments_lexer": "ipython3",
   "version": "3.10.9"
  }
 },
 "nbformat": 4,
 "nbformat_minor": 5
}
