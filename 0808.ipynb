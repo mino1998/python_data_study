{
 "cells": [
  {
   "cell_type": "markdown",
   "id": "0920dd36",
   "metadata": {},
   "source": [
    "## ndarray의 연산"
   ]
  },
  {
   "cell_type": "code",
   "execution_count": 2,
   "id": "9eeda6c6",
   "metadata": {},
   "outputs": [],
   "source": [
    "import numpy as np"
   ]
  },
  {
   "cell_type": "code",
   "execution_count": 4,
   "id": "bff40b9b",
   "metadata": {},
   "outputs": [
    {
     "name": "stdout",
     "output_type": "stream",
     "text": [
      "[ 2  4  6  8 10]\n",
      "[2 3 4 5 6]\n"
     ]
    }
   ],
   "source": [
    "ar=np.array([1,2,3,4,5])\n",
    "br=np.array([1,2,3,4,5])\n",
    "cr=np.array([1,2,3,4])\n",
    "print(ar+br)\n",
    "#print(ar+cr) # 브로드캐스트 연산을 하려하지만, 연산 질패를 합니다. 더할 수 없다.\n",
    "print(ar+1) #얘는 ar+[1,1,1,1,1]로 브로드캐스트 연산에 성공합니다.\n",
    "# 차원은 맞춰줄 수 있지만, 그 안에 있는 개수는 꼭 맞춰줘야한다."
   ]
  },
  {
   "cell_type": "code",
   "execution_count": 8,
   "id": "608a163c",
   "metadata": {},
   "outputs": [
    {
     "name": "stdout",
     "output_type": "stream",
     "text": [
      "[1 2 3 4]\n"
     ]
    }
   ],
   "source": [
    "dr=np.array([1,2,3,4])\n",
    "er=np.array([1,2])\n",
    "# print(dr+er) # 이건 절대 안된다 하지만?\n",
    "dr.reshape((2,2))\n"
   ]
  },
  {
   "cell_type": "code",
   "execution_count": 12,
   "id": "5d3f58e3",
   "metadata": {},
   "outputs": [
    {
     "name": "stdout",
     "output_type": "stream",
     "text": [
      "[11 22 33 44 55]\n",
      "[5 6 7 8 9]\n",
      "[ 1  2  3  4  5  6  7  8  9 10]\n",
      "[[ 1  2  3  4  5]\n",
      " [ 6  7  8  9 10]]\n",
      "[[ 2  4  6  8 10]\n",
      " [ 7  9 11 13 15]]\n"
     ]
    }
   ],
   "source": [
    "#산술연산\n",
    "ar=np.array([1,2,3,4,5])\n",
    "br=np.array([10,20,30,40,50])\n",
    "result=ar+br\n",
    "print(result)\n",
    "result=ar+4\n",
    "#이는 2개의 차원이 다른 경우이다.\n",
    "# 이 경우, 적은 차원의 데이터를 큰 차원으로 수정\n",
    "#ar+[4,4,4,4,4]\n",
    "print(result)\n",
    "kr=np.array(range(1,11)) #1부터 10까지\n",
    "print(kr)\n",
    "# print(ar+cr) # 요소 개수가 5개, 10개 차이로 오류가 남\n",
    "cr=kr.reshape((2,5)) #2행 5열로 만들기\n",
    "print(cr)\n",
    "print(ar+cr)"
   ]
  },
  {
   "cell_type": "code",
   "execution_count": 14,
   "id": "c10d3027",
   "metadata": {},
   "outputs": [
    {
     "name": "stdout",
     "output_type": "stream",
     "text": [
      "[False False False False False]\n",
      "[ True  True  True  True  True]\n",
      "[False False False False False]\n"
     ]
    }
   ],
   "source": [
    "# 논리연산\n",
    "ar=np.array([1,2,3,4,5])\n",
    "br=np.array([10,20,30,40,50])\n",
    "print(ar>br)\n",
    "print(np.not_equal(ar,br))\n",
    "print(np.logical_xor(ar,br)) # 다 값이 상수로 존재(true)해서 xor는 False\n",
    "# and or xor는 bool(Ture, False)로 변경해서 판정함"
   ]
  },
  {
   "cell_type": "code",
   "execution_count": 16,
   "id": "beb5dd27",
   "metadata": {},
   "outputs": [
    {
     "name": "stdout",
     "output_type": "stream",
     "text": [
      "[11 22 33 44 55]\n"
     ]
    }
   ],
   "source": [
    "ar=np.array([1,2,3,4,5])\n",
    "br=np.array([10,20,30,40,50])\n",
    "ar+=br # ar=ar+br\n",
    "print(ar)\n",
    "# 일반 list는 * 연산은 반복이다. 배열은 진짜 곱셈이다."
   ]
  },
  {
   "cell_type": "code",
   "execution_count": 18,
   "id": "4bb72d6a",
   "metadata": {},
   "outputs": [
    {
     "name": "stdout",
     "output_type": "stream",
     "text": [
      "True\n",
      "False\n",
      "False\n"
     ]
    },
    {
     "name": "stderr",
     "output_type": "stream",
     "text": [
      "C:\\Users\\USER\\AppData\\Local\\Temp\\ipykernel_20000\\1456367003.py:4: DeprecationWarning: elementwise comparison failed; this will raise an error in the future.\n",
      "  print([1,2] in ar)\n",
      "C:\\Users\\USER\\AppData\\Local\\Temp\\ipykernel_20000\\1456367003.py:5: DeprecationWarning: elementwise comparison failed; this will raise an error in the future.\n",
      "  print([1,100] in ar)\n"
     ]
    }
   ],
   "source": [
    "ar=np.array([1,2,3,4,5])\n",
    "br=np.array([10,20,30,40,50])\n",
    "print(1 in ar)\n",
    "print([1,2] in ar)\n",
    "print([1,100] in ar)"
   ]
  },
  {
   "cell_type": "code",
   "execution_count": 22,
   "id": "ce2ee821",
   "metadata": {},
   "outputs": [
    {
     "name": "stdout",
     "output_type": "stream",
     "text": [
      "[101 102 103 104 105]\n",
      "[101 102 103 104 105]\n",
      "[101 102 103 104 105]\n"
     ]
    }
   ],
   "source": [
    "# 벡터화된 함수\n",
    "# 매개변수에 100을 더해서 리턴하는 함수를 만들어보자.\n",
    "def add100(param):\n",
    "    return param+100\n",
    "ar=np.array([1,2,3,4,5])\n",
    "print(add100(ar))\n",
    "# 벡터화된 함수로 수정하기\n",
    "vector_add100=np.vectorize(add100)\n",
    "print(vector_add100(ar))\n",
    "# 무슨 차이가 있는거지?\n",
    "# 얘는 한줄이라 람다로 쓸 수 있겠다\n",
    "print(np.vectorize(lambda i:i+100)(ar))"
   ]
  },
  {
   "cell_type": "code",
   "execution_count": 28,
   "id": "bdde7294",
   "metadata": {},
   "outputs": [
    {
     "name": "stdout",
     "output_type": "stream",
     "text": [
      "[[ 1  2]\n",
      " [ 3  4]\n",
      " [ 5  6]\n",
      " [ 7  8]\n",
      " [ 9 10]]\n",
      "[[ 1  2  3  4  5]\n",
      " [ 6  7  8  9 10]]\n",
      "[[ 1  3  5  7  9]\n",
      " [ 2  4  6  8 10]]\n",
      "[[ 1  2]\n",
      " [ 3  4]\n",
      " [ 5  6]\n",
      " [ 7  8]\n",
      " [ 9 10]]\n",
      "[[ 1  3  5  7  9]\n",
      " [ 2  4  6  8 10]]\n",
      "[[ 1  2]\n",
      " [ 3  4]\n",
      " [ 5  6]\n",
      " [ 7  8]\n",
      " [ 9 10]]\n"
     ]
    }
   ],
   "source": [
    "matrix=np.array(range(1,11)).reshape((5,2))\n",
    "print(matrix)\n",
    "print(matrix.reshape((2,5))) # 행열 전치가 가능하다.\n",
    "# 이런 방법도 있다.\n",
    "print(matrix.T) # 보면, reshape와 T는 둘다 메서드인데 복제해서 사용하는 메서드인것같다.\n",
    "# 참조를 리턴하는것은 아닌가보다.\n",
    "print(matrix)\n",
    "print(np.transpose(matrix)) # 얘도 그렇다.\n",
    "print(matrix)"
   ]
  },
  {
   "cell_type": "code",
   "execution_count": 57,
   "id": "c4700047",
   "metadata": {},
   "outputs": [
    {
     "name": "stdout",
     "output_type": "stream",
     "text": [
      "[ 1  2  3  4  5  6  7  8  9 10 11 12 13 14 15 16 17 18 19 20 21 22 23 24\n",
      " 25 26 27 28 29 30 31 32 33 34 35 36 37 38 39 40 41 42 43 44 45 46 47 48]\n",
      "[38 21 42 12 15 24  3 43 20 30 36 33  5  6 23 13 48 32 28  9 44 46 29 40\n",
      " 45 16 41 19 27 31  4 39  7 10 47 17 11 26  8 35  2 22 34 37  1 14 18 25]\n",
      "[20 19 45  5 16  6 29 12 31 25 11  4 41 23  9 30 28 36 43 24 17 18  8 48\n",
      " 40 22 37 38 13 33  3 46  1 15 14 47 26  7 27  2 44 32 10 21 35 39 42 34]\n",
      "[23 25 37 11 31 30 20 43 36  4 24  8 26 28 13 14 34 15 19  6  9 39 22 42\n",
      " 35 32 10  2  1  7 33 45 27 29 44  3 18 12 41 46 40 16 21 48 47  5 17 38]\n",
      "[11 10  2  3 20 26 32 35 22 46 23 37 40 42 15 16 21 30 44 17 38 29 43 27\n",
      "  8 34  6  1  7 31 19 14 28 47 12 18  4 13  9 25 41 24 36  5 39 45 33 48]\n"
     ]
    }
   ],
   "source": [
    "import random\n",
    "cards=np.array(range(1,49))\n",
    "print(cards)\n",
    "(np.random.shuffle(cards))\n",
    "print(cards)\n",
    "result=np.random.permutation(cards)\n",
    "print(result)\n",
    "#seed 고정시키면?\n",
    "np.random.seed(seed=41)\n",
    "(np.random.shuffle(cards))\n",
    "print(cards)\n",
    "result=np.random.permutation(cards)\n",
    "print(result)\n",
    "#고정당했죠?"
   ]
  },
  {
   "cell_type": "code",
   "execution_count": 63,
   "id": "540e9c48",
   "metadata": {},
   "outputs": [
    {
     "name": "stdout",
     "output_type": "stream",
     "text": [
      "[[10 20]\n",
      " [30 40]\n",
      " [50 60]]\n",
      "210\n",
      "17.07825127659933\n",
      "18.708286933869708\n",
      "47.5\n",
      "[ 90 120]\n",
      "[[ 30]\n",
      " [ 70]\n",
      " [110]]\n"
     ]
    }
   ],
   "source": [
    "# 기본 통계 함수\n",
    "matrix=np.array([[10,20],[30,40],[50,60]])\n",
    "print(matrix)\n",
    "print(matrix.sum())\n",
    "print(matrix.std()) #표준 편차\n",
    "print(matrix.std(ddof=1)) # 자유도 1 표준편차, \n",
    "#값이 달라짐을 확인할 수 있다.\n",
    "print(np.percentile(matrix,75)) \n",
    "# percentile은 쓰는 방법이 조금 다르다.\n",
    "print(matrix.sum(axis=0)) #열단위 합계\n",
    "print(matrix.sum(axis=1,keepdims=True))\n",
    "#행 단위 합계 하지만 matrix와 동일한 차원으로 리턴"
   ]
  },
  {
   "cell_type": "code",
   "execution_count": 72,
   "id": "aa800065",
   "metadata": {},
   "outputs": [
    {
     "name": "stdout",
     "output_type": "stream",
     "text": [
      "[[0.60041311 0.43919298 0.07379232 0.07955691]\n",
      " [0.41159063 0.50334168 0.24662923 0.76553739]\n",
      " [0.02982467 0.9538882  0.10480409 0.87185372]\n",
      " [0.7776186  0.98502407 0.8920173  0.15886447]\n",
      " [0.68471326 0.18668517 0.99572624 0.79659859]]\n",
      "[0 3 1 1 2]\n",
      "[0.00392434 0.03877684 0.00169413 0.00671977]\n"
     ]
    }
   ],
   "source": [
    "# 기본 통계 함수\n",
    "matrix=np.random.rand(20).reshape((5,4))\n",
    "print(matrix)\n",
    "print(matrix.argmax(axis=1))\n",
    "print(matrix.prod(axis=0))"
   ]
  },
  {
   "cell_type": "code",
   "execution_count": 73,
   "id": "2b579c58",
   "metadata": {},
   "outputs": [
    {
     "name": "stdout",
     "output_type": "stream",
     "text": [
      "Help on function sort in module numpy:\n",
      "\n",
      "sort(a, axis=-1, kind=None, order=None)\n",
      "    Return a sorted copy of an array.\n",
      "    \n",
      "    Parameters\n",
      "    ----------\n",
      "    a : array_like\n",
      "        Array to be sorted.\n",
      "    axis : int or None, optional\n",
      "        Axis along which to sort. If None, the array is flattened before\n",
      "        sorting. The default is -1, which sorts along the last axis.\n",
      "    kind : {'quicksort', 'mergesort', 'heapsort', 'stable'}, optional\n",
      "        Sorting algorithm. The default is 'quicksort'. Note that both 'stable'\n",
      "        and 'mergesort' use timsort or radix sort under the covers and, in general,\n",
      "        the actual implementation will vary with data type. The 'mergesort' option\n",
      "        is retained for backwards compatibility.\n",
      "    \n",
      "        .. versionchanged:: 1.15.0.\n",
      "           The 'stable' option was added.\n",
      "    \n",
      "    order : str or list of str, optional\n",
      "        When `a` is an array with fields defined, this argument specifies\n",
      "        which fields to compare first, second, etc.  A single field can\n",
      "        be specified as a string, and not all fields need be specified,\n",
      "        but unspecified fields will still be used, in the order in which\n",
      "        they come up in the dtype, to break ties.\n",
      "    \n",
      "    Returns\n",
      "    -------\n",
      "    sorted_array : ndarray\n",
      "        Array of the same type and shape as `a`.\n",
      "    \n",
      "    See Also\n",
      "    --------\n",
      "    ndarray.sort : Method to sort an array in-place.\n",
      "    argsort : Indirect sort.\n",
      "    lexsort : Indirect stable sort on multiple keys.\n",
      "    searchsorted : Find elements in a sorted array.\n",
      "    partition : Partial sort.\n",
      "    \n",
      "    Notes\n",
      "    -----\n",
      "    The various sorting algorithms are characterized by their average speed,\n",
      "    worst case performance, work space size, and whether they are stable. A\n",
      "    stable sort keeps items with the same key in the same relative\n",
      "    order. The four algorithms implemented in NumPy have the following\n",
      "    properties:\n",
      "    \n",
      "    =========== ======= ============= ============ ========\n",
      "       kind      speed   worst case    work space   stable\n",
      "    =========== ======= ============= ============ ========\n",
      "    'quicksort'    1     O(n^2)            0          no\n",
      "    'heapsort'     3     O(n*log(n))       0          no\n",
      "    'mergesort'    2     O(n*log(n))      ~n/2        yes\n",
      "    'timsort'      2     O(n*log(n))      ~n/2        yes\n",
      "    =========== ======= ============= ============ ========\n",
      "    \n",
      "    .. note:: The datatype determines which of 'mergesort' or 'timsort'\n",
      "       is actually used, even if 'mergesort' is specified. User selection\n",
      "       at a finer scale is not currently available.\n",
      "    \n",
      "    All the sort algorithms make temporary copies of the data when\n",
      "    sorting along any but the last axis.  Consequently, sorting along\n",
      "    the last axis is faster and uses less space than sorting along\n",
      "    any other axis.\n",
      "    \n",
      "    The sort order for complex numbers is lexicographic. If both the real\n",
      "    and imaginary parts are non-nan then the order is determined by the\n",
      "    real parts except when they are equal, in which case the order is\n",
      "    determined by the imaginary parts.\n",
      "    \n",
      "    Previous to numpy 1.4.0 sorting real and complex arrays containing nan\n",
      "    values led to undefined behaviour. In numpy versions >= 1.4.0 nan\n",
      "    values are sorted to the end. The extended sort order is:\n",
      "    \n",
      "      * Real: [R, nan]\n",
      "      * Complex: [R + Rj, R + nanj, nan + Rj, nan + nanj]\n",
      "    \n",
      "    where R is a non-nan real value. Complex values with the same nan\n",
      "    placements are sorted according to the non-nan part if it exists.\n",
      "    Non-nan values are sorted as before.\n",
      "    \n",
      "    .. versionadded:: 1.12.0\n",
      "    \n",
      "    quicksort has been changed to `introsort <https://en.wikipedia.org/wiki/Introsort>`_.\n",
      "    When sorting does not make enough progress it switches to\n",
      "    `heapsort <https://en.wikipedia.org/wiki/Heapsort>`_.\n",
      "    This implementation makes quicksort O(n*log(n)) in the worst case.\n",
      "    \n",
      "    'stable' automatically chooses the best stable sorting algorithm\n",
      "    for the data type being sorted.\n",
      "    It, along with 'mergesort' is currently mapped to\n",
      "    `timsort <https://en.wikipedia.org/wiki/Timsort>`_\n",
      "    or `radix sort <https://en.wikipedia.org/wiki/Radix_sort>`_\n",
      "    depending on the data type.\n",
      "    API forward compatibility currently limits the\n",
      "    ability to select the implementation and it is hardwired for the different\n",
      "    data types.\n",
      "    \n",
      "    .. versionadded:: 1.17.0\n",
      "    \n",
      "    Timsort is added for better performance on already or nearly\n",
      "    sorted data. On random data timsort is almost identical to\n",
      "    mergesort. It is now used for stable sort while quicksort is still the\n",
      "    default sort if none is chosen. For timsort details, refer to\n",
      "    `CPython listsort.txt <https://github.com/python/cpython/blob/3.7/Objects/listsort.txt>`_.\n",
      "    'mergesort' and 'stable' are mapped to radix sort for integer data types. Radix sort is an\n",
      "    O(n) sort instead of O(n log n).\n",
      "    \n",
      "    .. versionchanged:: 1.18.0\n",
      "    \n",
      "    NaT now sorts to the end of arrays for consistency with NaN.\n",
      "    \n",
      "    Examples\n",
      "    --------\n",
      "    >>> a = np.array([[1,4],[3,1]])\n",
      "    >>> np.sort(a)                # sort along the last axis\n",
      "    array([[1, 4],\n",
      "           [1, 3]])\n",
      "    >>> np.sort(a, axis=None)     # sort the flattened array\n",
      "    array([1, 1, 3, 4])\n",
      "    >>> np.sort(a, axis=0)        # sort along the first axis\n",
      "    array([[1, 1],\n",
      "           [3, 4]])\n",
      "    \n",
      "    Use the `order` keyword to specify a field to use when sorting a\n",
      "    structured array:\n",
      "    \n",
      "    >>> dtype = [('name', 'S10'), ('height', float), ('age', int)]\n",
      "    >>> values = [('Arthur', 1.8, 41), ('Lancelot', 1.9, 38),\n",
      "    ...           ('Galahad', 1.7, 38)]\n",
      "    >>> a = np.array(values, dtype=dtype)       # create a structured array\n",
      "    >>> np.sort(a, order='height')                        # doctest: +SKIP\n",
      "    array([('Galahad', 1.7, 38), ('Arthur', 1.8, 41),\n",
      "           ('Lancelot', 1.8999999999999999, 38)],\n",
      "          dtype=[('name', '|S10'), ('height', '<f8'), ('age', '<i4')])\n",
      "    \n",
      "    Sort by age, then height if ages are equal:\n",
      "    \n",
      "    >>> np.sort(a, order=['age', 'height'])               # doctest: +SKIP\n",
      "    array([('Galahad', 1.7, 38), ('Lancelot', 1.8999999999999999, 38),\n",
      "           ('Arthur', 1.8, 41)],\n",
      "          dtype=[('name', '|S10'), ('height', '<f8'), ('age', '<i4')])\n",
      "\n"
     ]
    }
   ],
   "source": [
    "help(np.sort)"
   ]
  },
  {
   "cell_type": "code",
   "execution_count": 76,
   "id": "12dca211",
   "metadata": {},
   "outputs": [
    {
     "name": "stdout",
     "output_type": "stream",
     "text": [
      "[10 20 25 26 30]\n",
      "[20 30 10 25 26]\n",
      "[[10 60 70]\n",
      " [20 30 50]\n",
      " [15 29 32]]\n",
      "[[10 60 70]\n",
      " [20 50 30]\n",
      " [15 32 29]]\n"
     ]
    }
   ],
   "source": [
    "ar=np.array([20,30,10,25,26])\n",
    "result=np.sort(ar)\n",
    "print(result)\n",
    "print(ar) #원본은 그대로\n",
    "#\n",
    "#2차원 배열에서 행에서의 배열\n",
    "br=np.array([[10,60,70],[20,50,30],[15,32,29]])\n",
    "result2=np.sort(br, axis=1)\n",
    "print(result2)\n",
    "print(br)\n",
    "# 보면 아시겠지만, 2차원 배열에서는 sort 거의 안쓸 것 같다."
   ]
  },
  {
   "cell_type": "code",
   "execution_count": 93,
   "id": "bada6d9b",
   "metadata": {},
   "outputs": [
    {
     "name": "stdout",
     "output_type": "stream",
     "text": [
      "[[ 1  2  3  4  5]\n",
      " [ 6  7  8  9 10]\n",
      " [11 12 13 14 15]\n",
      " [16 17 18 19 20]\n",
      " [21 22 23 24 25]\n",
      " [26 27 28 29 30]\n",
      " [31 32 33 34 35]\n",
      " [36 37 38 39 40]\n",
      " [41 42 43 44 45]\n",
      " [46 47 48 49 50]]\n",
      "[ 1  2  3  4  5  6  7  8  9 10 11 12 13 14 15 16 17 18 19 20 21 22 23 24\n",
      " 25 26 27 28 29 30 31 32 33 34 35]\n",
      "[36 37 38 39 40 41 42 43 44 45 46 47 48 49 50]\n",
      "(10, 5)\n",
      "10\n",
      "[array([[ 1,  2,  3,  4,  5],\n",
      "       [ 6,  7,  8,  9, 10],\n",
      "       [11, 12, 13, 14, 15],\n",
      "       [16, 17, 18, 19, 20],\n",
      "       [21, 22, 23, 24, 25]]), array([[26, 27, 28, 29, 30],\n",
      "       [31, 32, 33, 34, 35],\n",
      "       [36, 37, 38, 39, 40],\n",
      "       [41, 42, 43, 44, 45],\n",
      "       [46, 47, 48, 49, 50]])]\n",
      "[[ 1  2  3  4  5]\n",
      " [ 6  7  8  9 10]\n",
      " [11 12 13 14 15]\n",
      " [16 17 18 19 20]\n",
      " [21 22 23 24 25]\n",
      " [26 27 28 29 30]\n",
      " [31 32 33 34 35]]\n",
      "[[36 37 38 39 40]\n",
      " [41 42 43 44 45]\n",
      " [46 47 48 49 50]]\n"
     ]
    }
   ],
   "source": [
    "x=range(1,51)\n",
    "matrix=np.array(x).reshape((10,5))\n",
    "print(matrix)\n",
    "# data x를 7:3으로 분리해보자.\n",
    "x_70,x_30=np.split(x,[35]) #이거 뭔가 이상함\n",
    "print(x_70)\n",
    "print(x_30)\n",
    "## 강사님\n",
    "# 행과 열의 개수 가져오기\n",
    "print(matrix.shape)\n",
    "cnt=matrix.shape[0]\n",
    "print(cnt)\n",
    "# 이제 7:3 분할을 해보자.\n",
    "k=np.split(matrix,2) #이건 array 2개로 분할\n",
    "print(k)\n",
    "k=np.split(matrix, [int(cnt*0.7)])\n",
    "print(k[0])\n",
    "print(k[1])"
   ]
  },
  {
   "cell_type": "code",
   "execution_count": 79,
   "id": "f061b814",
   "metadata": {},
   "outputs": [
    {
     "name": "stdout",
     "output_type": "stream",
     "text": [
      "Help on function split in module numpy:\n",
      "\n",
      "split(ary, indices_or_sections, axis=0)\n",
      "    Split an array into multiple sub-arrays as views into `ary`.\n",
      "    \n",
      "    Parameters\n",
      "    ----------\n",
      "    ary : ndarray\n",
      "        Array to be divided into sub-arrays.\n",
      "    indices_or_sections : int or 1-D array\n",
      "        If `indices_or_sections` is an integer, N, the array will be divided\n",
      "        into N equal arrays along `axis`.  If such a split is not possible,\n",
      "        an error is raised.\n",
      "    \n",
      "        If `indices_or_sections` is a 1-D array of sorted integers, the entries\n",
      "        indicate where along `axis` the array is split.  For example,\n",
      "        ``[2, 3]`` would, for ``axis=0``, result in\n",
      "    \n",
      "          - ary[:2]\n",
      "          - ary[2:3]\n",
      "          - ary[3:]\n",
      "    \n",
      "        If an index exceeds the dimension of the array along `axis`,\n",
      "        an empty sub-array is returned correspondingly.\n",
      "    axis : int, optional\n",
      "        The axis along which to split, default is 0.\n",
      "    \n",
      "    Returns\n",
      "    -------\n",
      "    sub-arrays : list of ndarrays\n",
      "        A list of sub-arrays as views into `ary`.\n",
      "    \n",
      "    Raises\n",
      "    ------\n",
      "    ValueError\n",
      "        If `indices_or_sections` is given as an integer, but\n",
      "        a split does not result in equal division.\n",
      "    \n",
      "    See Also\n",
      "    --------\n",
      "    array_split : Split an array into multiple sub-arrays of equal or\n",
      "                  near-equal size.  Does not raise an exception if\n",
      "                  an equal division cannot be made.\n",
      "    hsplit : Split array into multiple sub-arrays horizontally (column-wise).\n",
      "    vsplit : Split array into multiple sub-arrays vertically (row wise).\n",
      "    dsplit : Split array into multiple sub-arrays along the 3rd axis (depth).\n",
      "    concatenate : Join a sequence of arrays along an existing axis.\n",
      "    stack : Join a sequence of arrays along a new axis.\n",
      "    hstack : Stack arrays in sequence horizontally (column wise).\n",
      "    vstack : Stack arrays in sequence vertically (row wise).\n",
      "    dstack : Stack arrays in sequence depth wise (along third dimension).\n",
      "    \n",
      "    Examples\n",
      "    --------\n",
      "    >>> x = np.arange(9.0)\n",
      "    >>> np.split(x, 3)\n",
      "    [array([0.,  1.,  2.]), array([3.,  4.,  5.]), array([6.,  7.,  8.])]\n",
      "    \n",
      "    >>> x = np.arange(8.0)\n",
      "    >>> np.split(x, [3, 5, 6, 10])\n",
      "    [array([0.,  1.,  2.]),\n",
      "     array([3.,  4.]),\n",
      "     array([5.]),\n",
      "     array([6.,  7.]),\n",
      "     array([], dtype=float64)]\n",
      "\n"
     ]
    }
   ],
   "source": [
    "help(np.split)"
   ]
  },
  {
   "cell_type": "markdown",
   "id": "019fe763",
   "metadata": {},
   "source": [
    "## Pandas"
   ]
  },
  {
   "cell_type": "code",
   "execution_count": 94,
   "id": "8eb83e5d",
   "metadata": {},
   "outputs": [],
   "source": [
    "import numpy as np\n",
    "import pandas as pd"
   ]
  },
  {
   "cell_type": "code",
   "execution_count": 97,
   "id": "5616f570",
   "metadata": {},
   "outputs": [
    {
     "name": "stdout",
     "output_type": "stream",
     "text": [
      "0    10\n",
      "1    20\n",
      "2    30\n",
      "3    40\n",
      "dtype: int64\n",
      "one      10\n",
      "two      20\n",
      "three    30\n",
      "four     40\n",
      "dtype: int64\n",
      "영어         Hi\n",
      "한국어        안녕\n",
      "중국어    Ni Hao\n",
      "dtype: object\n"
     ]
    }
   ],
   "source": [
    "series1=pd.Series([10,20,30,40])\n",
    "series2=pd.Series([10,20,30,40], index=[\"one\", \"two\", \"three\", \"four\"])\n",
    "print(series1)\n",
    "print(series2)\n",
    "series3=pd.Series({\"영어\":\"Hi\", \"한국어\":\"안녕\", \"중국어\":\"Ni Hao\"})\n",
    "print(series3)"
   ]
  },
  {
   "cell_type": "code",
   "execution_count": 99,
   "id": "030b9fc1",
   "metadata": {},
   "outputs": [
    {
     "name": "stdout",
     "output_type": "stream",
     "text": [
      "Hi\n",
      "Hi\n",
      "영어     Hi\n",
      "한국어    안녕\n",
      "dtype: object\n",
      "영어         Hi\n",
      "한국어        안녕\n",
      "중국어    Ni Hao\n",
      "dtype: object\n"
     ]
    }
   ],
   "source": [
    "#인덱싱\n",
    "print(series3[0]) #일련번호를 가지고 접근\n",
    "print(series3[\"영어\"]) #인덱스를 가지고 접근\n",
    "print(series3[0:2]) #영어 한국어까지만 나옴 (종료위치가 포함 x)\n",
    "print(series3[\"영어\":\"중국어\"]) #영어 한국어 중국어 다 나옴 "
   ]
  },
  {
   "cell_type": "code",
   "execution_count": 104,
   "id": "71b1932b",
   "metadata": {},
   "outputs": [
    {
     "name": "stdout",
     "output_type": "stream",
     "text": [
      "[10 20 30 40]\n",
      "0    110\n",
      "1    120\n",
      "2    130\n",
      "3    140\n",
      "dtype: int64\n",
      "100\n"
     ]
    }
   ],
   "source": [
    "print(series1.values) # 값들만 추출\n",
    "print(series1+100) \n",
    "# 연산은 ndarray와 동일하게 수행\n",
    "# values 속성의 멤버들을 가지고 연산\n",
    "print(np.sum(series1))# 함수 사용 가능"
   ]
  },
  {
   "cell_type": "code",
   "execution_count": 106,
   "id": "2218074f",
   "metadata": {},
   "outputs": [
    {
     "name": "stdout",
     "output_type": "stream",
     "text": [
      "영어     79\n",
      "한국어    97\n",
      "중국어    45\n",
      "dtype: int64\n",
      "영어      NaN\n",
      "한국어    97.0\n",
      "중국어    30.0\n",
      "dtype: float64\n",
      "영어       NaN\n",
      "한국어    194.0\n",
      "중국어     75.0\n",
      "dtype: float64\n"
     ]
    }
   ],
   "source": [
    "s1=pd.Series({\"영어\":79, \"한국어\":97, \"중국어\":45})\n",
    "s2=pd.Series({\"영어\":np.nan, \"한국어\":97, \"중국어\":30})\n",
    "print(s1)\n",
    "print(s2)\n",
    "print(s1+s2)"
   ]
  },
  {
   "cell_type": "code",
   "execution_count": 111,
   "id": "efa83539",
   "metadata": {},
   "outputs": [
    {
     "name": "stdout",
     "output_type": "stream",
     "text": [
      "   cdoe name  price\n",
      "0     1  바밤바    850\n",
      "1     2  배뱀배    900\n",
      "2     3  벼볌벼   1000\n"
     ]
    }
   ],
   "source": [
    "items={\n",
    "    'cdoe':[1,2,3],\n",
    "    'name':[\"바밤바\",\"배뱀배\",\"벼볌벼\"],\n",
    "    'price':[850,900,1000]\n",
    "} #딕셔너리 생성\n",
    "df=pd.DataFrame(items) #데이터프레임 생성\n",
    "print(df)"
   ]
  },
  {
   "cell_type": "code",
   "execution_count": 114,
   "id": "1059e65f",
   "metadata": {},
   "outputs": [
    {
     "name": "stdout",
     "output_type": "stream",
     "text": [
      "RangeIndex(start=0, stop=3, step=1)\n",
      "Index(['cdoe', 'name', 'price'], dtype='object')\n",
      "   코드   이름    가격\n",
      "1   1  바밤바   850\n",
      "2   2  배뱀배   900\n",
      "3   3  벼볌벼  1000\n"
     ]
    }
   ],
   "source": [
    "print(df.index)\n",
    "print(df.columns)\n",
    "df.index=range(1,4) #index 변경\n",
    "df.columns=['코드','이름','가격'] #columns 변경\n",
    "print(df)"
   ]
  },
  {
   "cell_type": "code",
   "execution_count": 117,
   "id": "b99f57f4",
   "metadata": {},
   "outputs": [
    {
     "name": "stdout",
     "output_type": "stream",
     "text": [
      "   코드   이름    가격\n",
      "1   1  바밤바   850\n",
      "2   2  배뱀배   900\n",
      "3   3  벼볌벼  1000\n",
      "   코드   이름    가격\n",
      "3   3  벼볌벼  1000\n",
      "<class 'numpy.ndarray'>\n",
      "<class 'pandas.core.frame.DataFrame'>\n",
      "RangeIndex: 3 entries, 1 to 3\n",
      "Data columns (total 3 columns):\n",
      " #   Column  Non-Null Count  Dtype \n",
      "---  ------  --------------  ----- \n",
      " 0   코드      3 non-null      int64 \n",
      " 1   이름      3 non-null      object\n",
      " 2   가격      3 non-null      int64 \n",
      "dtypes: int64(2), object(1)\n",
      "memory usage: 204.0+ bytes\n"
     ]
    }
   ],
   "source": [
    "#head나 tail 함수는 데이터가 제대로 불려왔는지 확인할 때 이용\n",
    "print(df.head())\n",
    "print(df.tail(1))\n",
    "# 이 데이터를 머신러닝을 하고자 하면 머신러닝은 numpy의 ndarray로만 가능\n",
    "print(type(df.values))\n",
    "# 데이터 분석을 하기 전에, 데이터를 가져왔으면 데이터에 대한 정보를 확인\n",
    "df.info()"
   ]
  },
  {
   "cell_type": "code",
   "execution_count": 127,
   "id": "473271e4",
   "metadata": {},
   "outputs": [
    {
     "name": "stdout",
     "output_type": "stream",
     "text": [
      "[0 0 0 0 0 0 0 0 0 0 0 0 0 0 0 0 0 0 0 0 0 0 0 0 0 0 0 0 0 0 0 0 0 0 0 0 0\n",
      " 0 0 0 0 0 0 0 0 0 0 0 0 0 1 1 1 1 1 1 1 1 1 1 1 1 1 1 1 1 1 1 1 1 1 1 1 1\n",
      " 1 1 1 1 1 1 1 1 1 1 1 1 1 1 1 1 1 1 1 1 1 1 1 1 1 1 2 2 2 2 2 2 2 2 2 2 2\n",
      " 2 2 2 2 2 2 2 2 2 2 2 2 2 2 2 2 2 2 2 2 2 2 2 2 2 2 2 2 2 2 2 2 2 2 2 2 2\n",
      " 2 2]\n"
     ]
    }
   ],
   "source": [
    "# sklearn 데이터 가져와보기\n",
    "from sklearn import datasets\n",
    "iris=datasets.load_iris()\n",
    "print(iris.target)"
   ]
  },
  {
   "cell_type": "code",
   "execution_count": 129,
   "id": "655fa668",
   "metadata": {},
   "outputs": [
    {
     "name": "stdout",
     "output_type": "stream",
     "text": [
      "C:\\Users\\USER\\Desktop\\Hello_Vision\\python_data\n",
      "   code  manufacture            name  price\n",
      "0     1        korea           apple   1500\n",
      "1     2        korea      watermelon  15000\n",
      "2     3        korea  oriental melon   1000\n",
      "3     4  philippines          banana    500\n",
      "4     5        korea           lemon   1500\n",
      "5     6        korea           mango    700\n"
     ]
    }
   ],
   "source": [
    "import os\n",
    "print(os.getcwd())\n",
    "# item.csv 읽기\n",
    "items=pd.read_csv('./data/item.csv')\n",
    "print(items)"
   ]
  },
  {
   "cell_type": "code",
   "execution_count": 131,
   "id": "edc212ec",
   "metadata": {},
   "outputs": [
    {
     "name": "stdout",
     "output_type": "stream",
     "text": [
      "      제품명  개수     가격\n",
      "0   apple  10   1500\n",
      "1  banana   5  15000\n",
      "2   melon   7   1000\n",
      "3    kiwi  20    500\n",
      "4   mango  30   1500\n",
      "5  orange   4    700\n"
     ]
    }
   ],
   "source": [
    "goods=pd.read_csv('./data/good.csv', header=None, names=['제품명', '개수', '가격'])\n",
    "print(goods)"
   ]
  },
  {
   "cell_type": "code",
   "execution_count": 134,
   "id": "6ac424fe",
   "metadata": {},
   "outputs": [
    {
     "name": "stdout",
     "output_type": "stream",
     "text": [
      "<class 'pandas.core.frame.DataFrame'>\n",
      "      제품명  개수     가격\n",
      "0   apple  10   1500\n",
      "1  banana   5  15000\n",
      "2   melon   7   1000\n",
      "\n",
      "<class 'pandas.core.frame.DataFrame'>\n",
      "      제품명  개수    가격\n",
      "3    kiwi  20   500\n",
      "4   mango  30  1500\n",
      "5  orange   4   700\n",
      "\n"
     ]
    }
   ],
   "source": [
    "# chunk를 사용해보자. 몇개씩 읽어오도록 설정\n",
    "goods=pd.read_csv('./data/good.csv', header=None, names=['제품명', '개수', '가격'], chunksize=3)\n",
    "for piece in goods:\n",
    "    print(type(piece))\n",
    "    print(piece)\n",
    "    print()"
   ]
  },
  {
   "cell_type": "code",
   "execution_count": 136,
   "id": "c454377a",
   "metadata": {},
   "outputs": [
    {
     "name": "stdout",
     "output_type": "stream",
     "text": [
      "          country continent  year  lifeExp       pop   gdpPercap\n",
      "0     Afghanistan      Asia  1952   28.801   8425333  779.445314\n",
      "1     Afghanistan      Asia  1957   30.332   9240934  820.853030\n",
      "2     Afghanistan      Asia  1962   31.997  10267083  853.100710\n",
      "3     Afghanistan      Asia  1967   34.020  11537966  836.197138\n",
      "4     Afghanistan      Asia  1972   36.088  13079460  739.981106\n",
      "...           ...       ...   ...      ...       ...         ...\n",
      "1699     Zimbabwe    Africa  1987   62.351   9216418  706.157306\n",
      "1700     Zimbabwe    Africa  1992   60.377  10704340  693.420786\n",
      "1701     Zimbabwe    Africa  1997   46.809  11404948  792.449960\n",
      "1702     Zimbabwe    Africa  2002   39.989  11926563  672.038623\n",
      "1703     Zimbabwe    Africa  2007   43.487  12311143  469.709298\n",
      "\n",
      "[1704 rows x 6 columns]\n"
     ]
    }
   ],
   "source": [
    "gapminder=pd.read_csv('./data/gapminder.tsv', sep='\\t')\n",
    "print(gapminder)"
   ]
  }
 ],
 "metadata": {
  "kernelspec": {
   "display_name": "Python 3 (ipykernel)",
   "language": "python",
   "name": "python3"
  },
  "language_info": {
   "codemirror_mode": {
    "name": "ipython",
    "version": 3
   },
   "file_extension": ".py",
   "mimetype": "text/x-python",
   "name": "python",
   "nbconvert_exporter": "python",
   "pygments_lexer": "ipython3",
   "version": "3.10.9"
  }
 },
 "nbformat": 4,
 "nbformat_minor": 5
}
