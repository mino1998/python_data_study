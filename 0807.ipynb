{
 "cells": [
  {
   "cell_type": "markdown",
   "id": "97864c73",
   "metadata": {},
   "source": [
    "# 0807, 파이썬 데이터 분석 패키지 확인\n"
   ]
  },
  {
   "cell_type": "markdown",
   "id": "6288899c",
   "metadata": {},
   "source": [
    "## Numpy"
   ]
  },
  {
   "cell_type": "markdown",
   "id": "8830cf37",
   "metadata": {},
   "source": [
    "### 속도 비교"
   ]
  },
  {
   "cell_type": "code",
   "execution_count": 2,
   "id": "0a15b516",
   "metadata": {},
   "outputs": [],
   "source": [
    "import numpy as np\n",
    "import datetime"
   ]
  },
  {
   "cell_type": "code",
   "execution_count": 4,
   "id": "05c90e80",
   "metadata": {},
   "outputs": [
    {
     "name": "stdout",
     "output_type": "stream",
     "text": [
      "시작시간:  2023-08-07 15:24:12.477583\n",
      "종료시간:  2023-08-07 15:24:12.544297\n"
     ]
    }
   ],
   "source": [
    "# list 생성\n",
    "li=range(1,1000000)\n",
    "#현재 시간 저장\n",
    "s=datetime.datetime.now()\n",
    "#시작 시간\n",
    "print(\"시작시간: \",s)\n",
    "#모든 요소에 10을 곱해서 list를 수정\n",
    "for i in li:\n",
    "    i=i*10\n",
    "# guswo tlrks wjwkd\n",
    "s=datetime.datetime.now()\n",
    "# 종료시간\n",
    "print(\"종료시간: \",s)"
   ]
  },
  {
   "cell_type": "code",
   "execution_count": 5,
   "id": "4c2c5b57",
   "metadata": {},
   "outputs": [
    {
     "name": "stdout",
     "output_type": "stream",
     "text": [
      "시작시간:  2023-08-07 15:26:31.650011\n",
      "종료시간:  2023-08-07 15:26:31.653016\n"
     ]
    }
   ],
   "source": [
    "ar=np.arange(1,1000000)\n",
    "#현재 시간 저장\n",
    "s=datetime.datetime.now()\n",
    "#시작 시간\n",
    "print(\"시작시간: \",s)\n",
    "#모든 요소에 10을 곱해서 list를 수정\n",
    "ar=ar*10\n",
    "# guswo tlrks wjwkd\n",
    "s=datetime.datetime.now()\n",
    "# 종료시간\n",
    "print(\"종료시간: \",s)"
   ]
  },
  {
   "cell_type": "code",
   "execution_count": 7,
   "id": "3c857c2a",
   "metadata": {},
   "outputs": [
    {
     "name": "stdout",
     "output_type": "stream",
     "text": [
      "<class 'numpy.ndarray'>\n",
      "int32\n",
      "1\n",
      "(4,)\n"
     ]
    }
   ],
   "source": [
    "# 배열 정보 확인\n",
    "ar=np.array([1,2,3,4])\n",
    "print(type(ar)) # ar의 자료형\n",
    "print(ar.dtype) # ar에 저장된 요소의 자료형\n",
    "print(ar.ndim)\n",
    "print(ar.shape)"
   ]
  },
  {
   "cell_type": "code",
   "execution_count": 8,
   "id": "0beabbd8",
   "metadata": {},
   "outputs": [
    {
     "name": "stdout",
     "output_type": "stream",
     "text": [
      "2\n",
      "(2, 3)\n"
     ]
    }
   ],
   "source": [
    "ar=np.array([[1,2,3],[4,5,6]])\n",
    "print(ar.ndim)# 2\n",
    "print(ar.shape) # 2행 3열"
   ]
  },
  {
   "cell_type": "code",
   "execution_count": 11,
   "id": "98aefbb5",
   "metadata": {},
   "outputs": [
    {
     "name": "stdout",
     "output_type": "stream",
     "text": [
      "[ 1  3  5  7  9 11 13 15 17 19 21 23 25 27 29 31 33 35 37 39 41 43 45 47\n",
      " 49 51 53 55 57 59 61 63 65 67 69 71 73 75 77 79 81 83 85 87 89 91 93 95\n",
      " 97 99]\n",
      "[  1.  12.  23.  34.  45.  56.  67.  78.  89. 100.]\n"
     ]
    }
   ],
   "source": [
    "ar=np.arange(1,100,2)\n",
    "print(ar)\n",
    "ar=np.linspace(1,100,num=10)\n",
    "print(ar)"
   ]
  },
  {
   "cell_type": "code",
   "execution_count": 16,
   "id": "2fdfd437",
   "metadata": {},
   "outputs": [
    {
     "name": "stdout",
     "output_type": "stream",
     "text": [
      "[[1. 0. 0.]\n",
      " [0. 1. 0.]\n",
      " [0. 0. 1.]]\n",
      "[[0. 1. 0.]\n",
      " [0. 0. 1.]\n",
      " [0. 0. 0.]]\n",
      "[[0. 0. 0.]\n",
      " [1. 0. 0.]\n",
      " [0. 1. 0.]]\n"
     ]
    }
   ],
   "source": [
    "# eye - 대각선 방향으로 1을 채운 행렬\n",
    "ar=np.eye(3)\n",
    "print(ar)\n",
    "ar=np.eye(3, k=1) # 3x3 대각행렬 생성후, 기본에서 위로 1 올라감\n",
    "print(ar)\n",
    "ar=np.eye(3, k=-1) # 얘는 기본에서 1 내려감\n",
    "print(ar)"
   ]
  },
  {
   "cell_type": "code",
   "execution_count": 18,
   "id": "61b8c121",
   "metadata": {},
   "outputs": [
    {
     "name": "stdout",
     "output_type": "stream",
     "text": [
      "[[1 2 3]\n",
      " [4 5 6]\n",
      " [7 8 9]]\n",
      "[1 5 9]\n",
      "[4 8]\n"
     ]
    }
   ],
   "source": [
    "ar=np.array([[1,2,3],[4,5,6],[7,8,9]])\n",
    "print(ar)\n",
    "br=np.diag(ar) # 대각 방향이기에 1,5,9\n",
    "print(br)\n",
    "cr=np.diag(ar,k=-1) # -1 한칸 내려간 대각이라 4,8만\n",
    "print(cr)"
   ]
  },
  {
   "cell_type": "code",
   "execution_count": 21,
   "id": "1b2c8db6",
   "metadata": {},
   "outputs": [
    {
     "name": "stdout",
     "output_type": "stream",
     "text": [
      "['1' '2' '3']\n",
      "[1 2 3]\n",
      "['1' '2' '3']\n",
      "[1 2 3]\n"
     ]
    }
   ],
   "source": [
    "ar=np.array([1,2,'3']) #문자열로 배열이 생성됩니다.\n",
    "print(ar)\n",
    "ar=np.array([1,2,'3'], dtype=np.int32) #정수로 자료형을 지정하자\n",
    "print(ar)\n",
    "ar=np.array([1,2,'3']) #다시 문자열로 저장\n",
    "print(ar)\n",
    "br=ar.astype(np.int32) #br은 정수형태임\n",
    "print(br)"
   ]
  },
  {
   "cell_type": "code",
   "execution_count": 27,
   "id": "dfb10f60",
   "metadata": {},
   "outputs": [
    {
     "name": "stdout",
     "output_type": "stream",
     "text": [
      "[[1 2 3]\n",
      " [4 5 6]\n",
      " [7 8 9]]\n",
      "[1 2 3 4 5 6 7 8 9]\n",
      "[[101   2   3]\n",
      " [  4   5   6]\n",
      " [  7   8   9]]\n",
      "[101   2   3   4   5   6   7   8   9]\n",
      "[[101   2   3]\n",
      " [  4   5   6]\n",
      " [  7   8   9]]\n",
      "[201   2   3   4   5   6   7   8   9]\n"
     ]
    }
   ],
   "source": [
    "# 오-류\n",
    "matrix=np.array([[1,2,3],[4,5,6],[7,8,9]])\n",
    "print(matrix)\n",
    "ar=matrix.reshape(-1)\n",
    "print(ar)\n",
    "# 여기까진 잘 나와\n",
    "ar[0]=101\n",
    "print(matrix)\n",
    "# 그런데 ar을 바꿨는데 matrix가 바뀐다. 둘이 동일하다.\n",
    "br=matrix.flatten()\n",
    "print(br)\n",
    "br[0]=201\n",
    "print(matrix)\n",
    "print(br)\n",
    "#reshape는 접근 방법을 바꾼 것이라 동일한 데이터\n",
    "#flatten은 복사본에 작업하는 것이라 다른 데이터이다."
   ]
  },
  {
   "cell_type": "code",
   "execution_count": 35,
   "id": "573491cb",
   "metadata": {},
   "outputs": [
    {
     "name": "stdout",
     "output_type": "stream",
     "text": [
      "[[1 2 3]\n",
      " [4 5 6]\n",
      " [7 8 9]]\n",
      "2\n",
      "[1 2 3]\n",
      "[1 4 7]\n",
      "[[1 2 3]\n",
      " [4 5 6]]\n",
      "1\n",
      "1\n",
      "486\n",
      "1\n",
      "1\n",
      "486\n",
      "1\n"
     ]
    }
   ],
   "source": [
    "matrix=np.array([[1,2,3],[4,5,6],[7,8,9]])\n",
    "print(matrix)\n",
    "print(matrix[0][1])\n",
    "print(matrix[0])\n",
    "# print(matrix[][0]) #이건 안된다!!, 앞에 찾아가질 못하니까 에러가 나는 것임\n",
    "print(matrix[:,0]) # 0번째 열을 고르고 싶다면, 행의 전체를 포함하고 해당 열을 부르면 된다.\n",
    "print(matrix[0:2])# 0행부터 1행까지(2행 앞까지)\n",
    "#일반 인덱싱은 참조를 복사합니다.\n",
    "x=matrix[0][0]\n",
    "print(x)\n",
    "print(matrix[0][0])\n",
    "x=486\n",
    "print(x)\n",
    "print(matrix[0][0])\n",
    "# 참조를 복사하는데 바뀌진 않았다??\n",
    "# [][] 는 슬라이싱 이다. 이는 복제를 해서 작업합니다.\n",
    "# [행,열] 이게 인덱싱입니다. 이게 참조를 리턴해서 하기에 바뀔겁니다.\n",
    "y=matrix[0,0]\n",
    "print(y)\n",
    "y=486\n",
    "print(y)\n",
    "print(matrix[0,0]) #안바뀌는데용?"
   ]
  },
  {
   "cell_type": "code",
   "execution_count": 41,
   "id": "384502ec",
   "metadata": {},
   "outputs": [
    {
     "name": "stdout",
     "output_type": "stream",
     "text": [
      "[[1 2 3]\n",
      " [4 5 6]\n",
      " [7 8 9]]\n",
      "[1 2 3]\n",
      "[1 2 3]\n",
      "[100   2   3]\n",
      "[100   2   3]\n",
      "[[100   2   3]\n",
      " [  4   5   6]\n",
      " [  7   8   9]]\n",
      "[[100   2   3]]\n",
      "[100   2   3]\n",
      "[[486   2   3]]\n",
      "[100 972   3]\n",
      "[[100 972   3]\n",
      " [  4   5   6]\n",
      " [  7   8   9]]\n"
     ]
    }
   ],
   "source": [
    "matrix=np.array([[1,2,3],[4,5,6],[7,8,9]])\n",
    "print(matrix) #전체 출력\n",
    "ar=matrix[0]\n",
    "br=matrix[0,]\n",
    "print(ar)\n",
    "print(br) # 둘다 0번행을 인덱싱하였다.\n",
    "ar[0]=100 # 인덱싱 해서 가져온 리스트의 값을 변경\n",
    "print(ar)\n",
    "print(br)\n",
    "print(matrix)\n",
    "#참조 리턴이라 해당 부분이 싹 바뀐다.\n",
    "cr=matrix[[0]] # list를 이용하는 인덱싱을 팬시 인덱싱이라 한다.\n",
    "dr=matrix[0][:] # 범위를 이용하는 형태를 슬라이싱이라 한다.\n",
    "#복제된 데이터를 수정해도 원본에 영향을 주지 않습니다.\n",
    "print(cr)\n",
    "print(dr)\n",
    "cr[0,0]=486\n",
    "dr[1]=972\n",
    "print(cr)\n",
    "print(dr)\n",
    "print(matrix)"
   ]
  },
  {
   "cell_type": "code",
   "execution_count": 43,
   "id": "a4abfc1b",
   "metadata": {
    "scrolled": true
   },
   "outputs": [
    {
     "name": "stdout",
     "output_type": "stream",
     "text": [
      "[3 6]\n"
     ]
    }
   ],
   "source": [
    "arr=np.array([10,2,30,5,22,37])\n",
    "brr=np.array([1,2,3,4,5,6]) # 길이는 맞춰주자.\n",
    "print(brr[arr>=30])# arr이 30 이상인 인덱스를 가져옴\n",
    "# 대신 이건 false false true false false true 이러고 true만 가져옴\n",
    "# 그래서 길이가 동일하다고 가정하고 하는 것임"
   ]
  }
 ],
 "metadata": {
  "kernelspec": {
   "display_name": "Python 3 (ipykernel)",
   "language": "python",
   "name": "python3"
  },
  "language_info": {
   "codemirror_mode": {
    "name": "ipython",
    "version": 3
   },
   "file_extension": ".py",
   "mimetype": "text/x-python",
   "name": "python",
   "nbconvert_exporter": "python",
   "pygments_lexer": "ipython3",
   "version": "3.10.9"
  }
 },
 "nbformat": 4,
 "nbformat_minor": 5
}
